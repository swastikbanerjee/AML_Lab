{
  "nbformat": 4,
  "nbformat_minor": 0,
  "metadata": {
    "colab": {
      "provenance": [],
      "authorship_tag": "ABX9TyPD0esIdTkkNie1N4SNVz5d",
      "include_colab_link": true
    },
    "kernelspec": {
      "name": "python3",
      "display_name": "Python 3"
    },
    "language_info": {
      "name": "python"
    }
  },
  "cells": [
    {
      "cell_type": "markdown",
      "metadata": {
        "id": "view-in-github",
        "colab_type": "text"
      },
      "source": [
        "<a href=\"https://colab.research.google.com/github/swastikbanerjee/AML_Lab/blob/main/Lab5.ipynb\" target=\"_parent\"><img src=\"https://colab.research.google.com/assets/colab-badge.svg\" alt=\"Open In Colab\"/></a>"
      ]
    },
    {
      "cell_type": "markdown",
      "source": [
        "Importing Dependencies"
      ],
      "metadata": {
        "id": "pPvrP0DoMTjt"
      }
    },
    {
      "cell_type": "code",
      "execution_count": 224,
      "metadata": {
        "id": "k9Kh0wfi6jIJ"
      },
      "outputs": [],
      "source": [
        "import pandas as pd\n",
        "import numpy as np\n",
        "import matplotlib.pyplot as plt\n",
        "import seaborn as sns\n",
        "import warnings\n",
        "warnings.filterwarnings(\"ignore\")"
      ]
    },
    {
      "cell_type": "markdown",
      "source": [
        "Importing Dataset"
      ],
      "metadata": {
        "id": "yew94fpLMbRM"
      }
    },
    {
      "cell_type": "code",
      "source": [
        "data = pd.read_csv(\"/content/program_5_dataset.csv\")"
      ],
      "metadata": {
        "id": "p-35IS687e2y"
      },
      "execution_count": 225,
      "outputs": []
    },
    {
      "cell_type": "code",
      "source": [
        "data.shape"
      ],
      "metadata": {
        "colab": {
          "base_uri": "https://localhost:8080/"
        },
        "id": "YPnnF04h71d1",
        "outputId": "fcd3bb9d-6c1a-4efa-e5ae-85470013d0ef"
      },
      "execution_count": 226,
      "outputs": [
        {
          "output_type": "execute_result",
          "data": {
            "text/plain": [
              "(615, 14)"
            ]
          },
          "metadata": {},
          "execution_count": 226
        }
      ]
    },
    {
      "cell_type": "code",
      "source": [
        "data.head()"
      ],
      "metadata": {
        "colab": {
          "base_uri": "https://localhost:8080/",
          "height": 206
        },
        "id": "D-mkz4IQ74CO",
        "outputId": "8399e073-5551-4690-c69d-109d3938b635"
      },
      "execution_count": 227,
      "outputs": [
        {
          "output_type": "execute_result",
          "data": {
            "text/plain": [
              "   Unnamed: 0       Category  Age Sex   ALB   ALP   ALT   AST   BIL    CHE  \\\n",
              "0           1  0=Blood Donor   32   m  38.5  52.5   7.7  22.1   7.5   6.93   \n",
              "1           2  0=Blood Donor   32   m  38.5  70.3  18.0  24.7   3.9  11.17   \n",
              "2           3  0=Blood Donor   32   m  46.9  74.7  36.2  52.6   6.1   8.84   \n",
              "3           4  0=Blood Donor   32   m  43.2  52.0  30.6  22.6  18.9   7.33   \n",
              "4           5  0=Blood Donor   32   m  39.2  74.1  32.6  24.8   9.6   9.15   \n",
              "\n",
              "   CHOL   CREA   GGT  PROT  \n",
              "0  3.23  106.0  12.1  69.0  \n",
              "1  4.80   74.0  15.6  76.5  \n",
              "2  5.20   86.0  33.2  79.3  \n",
              "3  4.74   80.0  33.8  75.7  \n",
              "4  4.32   76.0  29.9  68.7  "
            ],
            "text/html": [
              "\n",
              "  <div id=\"df-3b417c5d-3f7d-4d58-a21b-006fc00346d3\" class=\"colab-df-container\">\n",
              "    <div>\n",
              "<style scoped>\n",
              "    .dataframe tbody tr th:only-of-type {\n",
              "        vertical-align: middle;\n",
              "    }\n",
              "\n",
              "    .dataframe tbody tr th {\n",
              "        vertical-align: top;\n",
              "    }\n",
              "\n",
              "    .dataframe thead th {\n",
              "        text-align: right;\n",
              "    }\n",
              "</style>\n",
              "<table border=\"1\" class=\"dataframe\">\n",
              "  <thead>\n",
              "    <tr style=\"text-align: right;\">\n",
              "      <th></th>\n",
              "      <th>Unnamed: 0</th>\n",
              "      <th>Category</th>\n",
              "      <th>Age</th>\n",
              "      <th>Sex</th>\n",
              "      <th>ALB</th>\n",
              "      <th>ALP</th>\n",
              "      <th>ALT</th>\n",
              "      <th>AST</th>\n",
              "      <th>BIL</th>\n",
              "      <th>CHE</th>\n",
              "      <th>CHOL</th>\n",
              "      <th>CREA</th>\n",
              "      <th>GGT</th>\n",
              "      <th>PROT</th>\n",
              "    </tr>\n",
              "  </thead>\n",
              "  <tbody>\n",
              "    <tr>\n",
              "      <th>0</th>\n",
              "      <td>1</td>\n",
              "      <td>0=Blood Donor</td>\n",
              "      <td>32</td>\n",
              "      <td>m</td>\n",
              "      <td>38.5</td>\n",
              "      <td>52.5</td>\n",
              "      <td>7.7</td>\n",
              "      <td>22.1</td>\n",
              "      <td>7.5</td>\n",
              "      <td>6.93</td>\n",
              "      <td>3.23</td>\n",
              "      <td>106.0</td>\n",
              "      <td>12.1</td>\n",
              "      <td>69.0</td>\n",
              "    </tr>\n",
              "    <tr>\n",
              "      <th>1</th>\n",
              "      <td>2</td>\n",
              "      <td>0=Blood Donor</td>\n",
              "      <td>32</td>\n",
              "      <td>m</td>\n",
              "      <td>38.5</td>\n",
              "      <td>70.3</td>\n",
              "      <td>18.0</td>\n",
              "      <td>24.7</td>\n",
              "      <td>3.9</td>\n",
              "      <td>11.17</td>\n",
              "      <td>4.80</td>\n",
              "      <td>74.0</td>\n",
              "      <td>15.6</td>\n",
              "      <td>76.5</td>\n",
              "    </tr>\n",
              "    <tr>\n",
              "      <th>2</th>\n",
              "      <td>3</td>\n",
              "      <td>0=Blood Donor</td>\n",
              "      <td>32</td>\n",
              "      <td>m</td>\n",
              "      <td>46.9</td>\n",
              "      <td>74.7</td>\n",
              "      <td>36.2</td>\n",
              "      <td>52.6</td>\n",
              "      <td>6.1</td>\n",
              "      <td>8.84</td>\n",
              "      <td>5.20</td>\n",
              "      <td>86.0</td>\n",
              "      <td>33.2</td>\n",
              "      <td>79.3</td>\n",
              "    </tr>\n",
              "    <tr>\n",
              "      <th>3</th>\n",
              "      <td>4</td>\n",
              "      <td>0=Blood Donor</td>\n",
              "      <td>32</td>\n",
              "      <td>m</td>\n",
              "      <td>43.2</td>\n",
              "      <td>52.0</td>\n",
              "      <td>30.6</td>\n",
              "      <td>22.6</td>\n",
              "      <td>18.9</td>\n",
              "      <td>7.33</td>\n",
              "      <td>4.74</td>\n",
              "      <td>80.0</td>\n",
              "      <td>33.8</td>\n",
              "      <td>75.7</td>\n",
              "    </tr>\n",
              "    <tr>\n",
              "      <th>4</th>\n",
              "      <td>5</td>\n",
              "      <td>0=Blood Donor</td>\n",
              "      <td>32</td>\n",
              "      <td>m</td>\n",
              "      <td>39.2</td>\n",
              "      <td>74.1</td>\n",
              "      <td>32.6</td>\n",
              "      <td>24.8</td>\n",
              "      <td>9.6</td>\n",
              "      <td>9.15</td>\n",
              "      <td>4.32</td>\n",
              "      <td>76.0</td>\n",
              "      <td>29.9</td>\n",
              "      <td>68.7</td>\n",
              "    </tr>\n",
              "  </tbody>\n",
              "</table>\n",
              "</div>\n",
              "    <div class=\"colab-df-buttons\">\n",
              "\n",
              "  <div class=\"colab-df-container\">\n",
              "    <button class=\"colab-df-convert\" onclick=\"convertToInteractive('df-3b417c5d-3f7d-4d58-a21b-006fc00346d3')\"\n",
              "            title=\"Convert this dataframe to an interactive table.\"\n",
              "            style=\"display:none;\">\n",
              "\n",
              "  <svg xmlns=\"http://www.w3.org/2000/svg\" height=\"24px\" viewBox=\"0 -960 960 960\">\n",
              "    <path d=\"M120-120v-720h720v720H120Zm60-500h600v-160H180v160Zm220 220h160v-160H400v160Zm0 220h160v-160H400v160ZM180-400h160v-160H180v160Zm440 0h160v-160H620v160ZM180-180h160v-160H180v160Zm440 0h160v-160H620v160Z\"/>\n",
              "  </svg>\n",
              "    </button>\n",
              "\n",
              "  <style>\n",
              "    .colab-df-container {\n",
              "      display:flex;\n",
              "      gap: 12px;\n",
              "    }\n",
              "\n",
              "    .colab-df-convert {\n",
              "      background-color: #E8F0FE;\n",
              "      border: none;\n",
              "      border-radius: 50%;\n",
              "      cursor: pointer;\n",
              "      display: none;\n",
              "      fill: #1967D2;\n",
              "      height: 32px;\n",
              "      padding: 0 0 0 0;\n",
              "      width: 32px;\n",
              "    }\n",
              "\n",
              "    .colab-df-convert:hover {\n",
              "      background-color: #E2EBFA;\n",
              "      box-shadow: 0px 1px 2px rgba(60, 64, 67, 0.3), 0px 1px 3px 1px rgba(60, 64, 67, 0.15);\n",
              "      fill: #174EA6;\n",
              "    }\n",
              "\n",
              "    .colab-df-buttons div {\n",
              "      margin-bottom: 4px;\n",
              "    }\n",
              "\n",
              "    [theme=dark] .colab-df-convert {\n",
              "      background-color: #3B4455;\n",
              "      fill: #D2E3FC;\n",
              "    }\n",
              "\n",
              "    [theme=dark] .colab-df-convert:hover {\n",
              "      background-color: #434B5C;\n",
              "      box-shadow: 0px 1px 3px 1px rgba(0, 0, 0, 0.15);\n",
              "      filter: drop-shadow(0px 1px 2px rgba(0, 0, 0, 0.3));\n",
              "      fill: #FFFFFF;\n",
              "    }\n",
              "  </style>\n",
              "\n",
              "    <script>\n",
              "      const buttonEl =\n",
              "        document.querySelector('#df-3b417c5d-3f7d-4d58-a21b-006fc00346d3 button.colab-df-convert');\n",
              "      buttonEl.style.display =\n",
              "        google.colab.kernel.accessAllowed ? 'block' : 'none';\n",
              "\n",
              "      async function convertToInteractive(key) {\n",
              "        const element = document.querySelector('#df-3b417c5d-3f7d-4d58-a21b-006fc00346d3');\n",
              "        const dataTable =\n",
              "          await google.colab.kernel.invokeFunction('convertToInteractive',\n",
              "                                                    [key], {});\n",
              "        if (!dataTable) return;\n",
              "\n",
              "        const docLinkHtml = 'Like what you see? Visit the ' +\n",
              "          '<a target=\"_blank\" href=https://colab.research.google.com/notebooks/data_table.ipynb>data table notebook</a>'\n",
              "          + ' to learn more about interactive tables.';\n",
              "        element.innerHTML = '';\n",
              "        dataTable['output_type'] = 'display_data';\n",
              "        await google.colab.output.renderOutput(dataTable, element);\n",
              "        const docLink = document.createElement('div');\n",
              "        docLink.innerHTML = docLinkHtml;\n",
              "        element.appendChild(docLink);\n",
              "      }\n",
              "    </script>\n",
              "  </div>\n",
              "\n",
              "\n",
              "<div id=\"df-8a65101a-4063-49a9-a821-4b9929e85543\">\n",
              "  <button class=\"colab-df-quickchart\" onclick=\"quickchart('df-8a65101a-4063-49a9-a821-4b9929e85543')\"\n",
              "            title=\"Suggest charts\"\n",
              "            style=\"display:none;\">\n",
              "\n",
              "<svg xmlns=\"http://www.w3.org/2000/svg\" height=\"24px\"viewBox=\"0 0 24 24\"\n",
              "     width=\"24px\">\n",
              "    <g>\n",
              "        <path d=\"M19 3H5c-1.1 0-2 .9-2 2v14c0 1.1.9 2 2 2h14c1.1 0 2-.9 2-2V5c0-1.1-.9-2-2-2zM9 17H7v-7h2v7zm4 0h-2V7h2v10zm4 0h-2v-4h2v4z\"/>\n",
              "    </g>\n",
              "</svg>\n",
              "  </button>\n",
              "\n",
              "<style>\n",
              "  .colab-df-quickchart {\n",
              "      --bg-color: #E8F0FE;\n",
              "      --fill-color: #1967D2;\n",
              "      --hover-bg-color: #E2EBFA;\n",
              "      --hover-fill-color: #174EA6;\n",
              "      --disabled-fill-color: #AAA;\n",
              "      --disabled-bg-color: #DDD;\n",
              "  }\n",
              "\n",
              "  [theme=dark] .colab-df-quickchart {\n",
              "      --bg-color: #3B4455;\n",
              "      --fill-color: #D2E3FC;\n",
              "      --hover-bg-color: #434B5C;\n",
              "      --hover-fill-color: #FFFFFF;\n",
              "      --disabled-bg-color: #3B4455;\n",
              "      --disabled-fill-color: #666;\n",
              "  }\n",
              "\n",
              "  .colab-df-quickchart {\n",
              "    background-color: var(--bg-color);\n",
              "    border: none;\n",
              "    border-radius: 50%;\n",
              "    cursor: pointer;\n",
              "    display: none;\n",
              "    fill: var(--fill-color);\n",
              "    height: 32px;\n",
              "    padding: 0;\n",
              "    width: 32px;\n",
              "  }\n",
              "\n",
              "  .colab-df-quickchart:hover {\n",
              "    background-color: var(--hover-bg-color);\n",
              "    box-shadow: 0 1px 2px rgba(60, 64, 67, 0.3), 0 1px 3px 1px rgba(60, 64, 67, 0.15);\n",
              "    fill: var(--button-hover-fill-color);\n",
              "  }\n",
              "\n",
              "  .colab-df-quickchart-complete:disabled,\n",
              "  .colab-df-quickchart-complete:disabled:hover {\n",
              "    background-color: var(--disabled-bg-color);\n",
              "    fill: var(--disabled-fill-color);\n",
              "    box-shadow: none;\n",
              "  }\n",
              "\n",
              "  .colab-df-spinner {\n",
              "    border: 2px solid var(--fill-color);\n",
              "    border-color: transparent;\n",
              "    border-bottom-color: var(--fill-color);\n",
              "    animation:\n",
              "      spin 1s steps(1) infinite;\n",
              "  }\n",
              "\n",
              "  @keyframes spin {\n",
              "    0% {\n",
              "      border-color: transparent;\n",
              "      border-bottom-color: var(--fill-color);\n",
              "      border-left-color: var(--fill-color);\n",
              "    }\n",
              "    20% {\n",
              "      border-color: transparent;\n",
              "      border-left-color: var(--fill-color);\n",
              "      border-top-color: var(--fill-color);\n",
              "    }\n",
              "    30% {\n",
              "      border-color: transparent;\n",
              "      border-left-color: var(--fill-color);\n",
              "      border-top-color: var(--fill-color);\n",
              "      border-right-color: var(--fill-color);\n",
              "    }\n",
              "    40% {\n",
              "      border-color: transparent;\n",
              "      border-right-color: var(--fill-color);\n",
              "      border-top-color: var(--fill-color);\n",
              "    }\n",
              "    60% {\n",
              "      border-color: transparent;\n",
              "      border-right-color: var(--fill-color);\n",
              "    }\n",
              "    80% {\n",
              "      border-color: transparent;\n",
              "      border-right-color: var(--fill-color);\n",
              "      border-bottom-color: var(--fill-color);\n",
              "    }\n",
              "    90% {\n",
              "      border-color: transparent;\n",
              "      border-bottom-color: var(--fill-color);\n",
              "    }\n",
              "  }\n",
              "</style>\n",
              "\n",
              "  <script>\n",
              "    async function quickchart(key) {\n",
              "      const quickchartButtonEl =\n",
              "        document.querySelector('#' + key + ' button');\n",
              "      quickchartButtonEl.disabled = true;  // To prevent multiple clicks.\n",
              "      quickchartButtonEl.classList.add('colab-df-spinner');\n",
              "      try {\n",
              "        const charts = await google.colab.kernel.invokeFunction(\n",
              "            'suggestCharts', [key], {});\n",
              "      } catch (error) {\n",
              "        console.error('Error during call to suggestCharts:', error);\n",
              "      }\n",
              "      quickchartButtonEl.classList.remove('colab-df-spinner');\n",
              "      quickchartButtonEl.classList.add('colab-df-quickchart-complete');\n",
              "    }\n",
              "    (() => {\n",
              "      let quickchartButtonEl =\n",
              "        document.querySelector('#df-8a65101a-4063-49a9-a821-4b9929e85543 button');\n",
              "      quickchartButtonEl.style.display =\n",
              "        google.colab.kernel.accessAllowed ? 'block' : 'none';\n",
              "    })();\n",
              "  </script>\n",
              "</div>\n",
              "    </div>\n",
              "  </div>\n"
            ]
          },
          "metadata": {},
          "execution_count": 227
        }
      ]
    },
    {
      "cell_type": "code",
      "source": [
        "data.describe()"
      ],
      "metadata": {
        "colab": {
          "base_uri": "https://localhost:8080/",
          "height": 338
        },
        "id": "ShhXhwR1754z",
        "outputId": "a6809dd3-4ef7-47c0-c429-7a40afe2d3d1"
      },
      "execution_count": 228,
      "outputs": [
        {
          "output_type": "execute_result",
          "data": {
            "text/plain": [
              "       Unnamed: 0         Age         ALB         ALP         ALT         AST  \\\n",
              "count  615.000000  615.000000  613.000000  595.000000  612.000000  613.000000   \n",
              "mean   308.000000   47.408130   41.622838   68.263529   28.493627   34.731648   \n",
              "std    177.679487   10.055105    5.784979   26.049129   25.498962   33.090023   \n",
              "min      1.000000   19.000000   14.900000   11.300000    0.900000   10.600000   \n",
              "25%    154.500000   39.000000   38.800000   52.500000   16.400000   21.600000   \n",
              "50%    308.000000   47.000000   42.000000   66.200000   23.000000   25.900000   \n",
              "75%    461.500000   54.000000   45.200000   80.100000   33.100000   32.900000   \n",
              "max    615.000000   77.000000   82.200000  416.600000  325.300000  324.000000   \n",
              "\n",
              "              BIL         CHE        CHOL         CREA         GGT        PROT  \n",
              "count  615.000000  615.000000  604.000000   614.000000  615.000000  614.000000  \n",
              "mean    11.396748    8.196634    5.368013    81.271987   39.533171   72.044137  \n",
              "std     19.673150    2.205657    1.133665    49.795186   54.661071    5.402636  \n",
              "min      0.800000    1.420000    1.430000     8.000000    4.500000   44.800000  \n",
              "25%      5.300000    6.935000    4.607500    67.000000   15.700000   69.300000  \n",
              "50%      7.300000    8.260000    5.300000    76.850000   23.300000   72.200000  \n",
              "75%     11.200000    9.590000    6.065000    88.000000   40.200000   75.400000  \n",
              "max    254.000000   16.410000    9.670000  1079.100000  650.900000   90.000000  "
            ],
            "text/html": [
              "\n",
              "  <div id=\"df-eb904d2e-23f9-422f-8ac4-1b379aeb56b6\" class=\"colab-df-container\">\n",
              "    <div>\n",
              "<style scoped>\n",
              "    .dataframe tbody tr th:only-of-type {\n",
              "        vertical-align: middle;\n",
              "    }\n",
              "\n",
              "    .dataframe tbody tr th {\n",
              "        vertical-align: top;\n",
              "    }\n",
              "\n",
              "    .dataframe thead th {\n",
              "        text-align: right;\n",
              "    }\n",
              "</style>\n",
              "<table border=\"1\" class=\"dataframe\">\n",
              "  <thead>\n",
              "    <tr style=\"text-align: right;\">\n",
              "      <th></th>\n",
              "      <th>Unnamed: 0</th>\n",
              "      <th>Age</th>\n",
              "      <th>ALB</th>\n",
              "      <th>ALP</th>\n",
              "      <th>ALT</th>\n",
              "      <th>AST</th>\n",
              "      <th>BIL</th>\n",
              "      <th>CHE</th>\n",
              "      <th>CHOL</th>\n",
              "      <th>CREA</th>\n",
              "      <th>GGT</th>\n",
              "      <th>PROT</th>\n",
              "    </tr>\n",
              "  </thead>\n",
              "  <tbody>\n",
              "    <tr>\n",
              "      <th>count</th>\n",
              "      <td>615.000000</td>\n",
              "      <td>615.000000</td>\n",
              "      <td>613.000000</td>\n",
              "      <td>595.000000</td>\n",
              "      <td>612.000000</td>\n",
              "      <td>613.000000</td>\n",
              "      <td>615.000000</td>\n",
              "      <td>615.000000</td>\n",
              "      <td>604.000000</td>\n",
              "      <td>614.000000</td>\n",
              "      <td>615.000000</td>\n",
              "      <td>614.000000</td>\n",
              "    </tr>\n",
              "    <tr>\n",
              "      <th>mean</th>\n",
              "      <td>308.000000</td>\n",
              "      <td>47.408130</td>\n",
              "      <td>41.622838</td>\n",
              "      <td>68.263529</td>\n",
              "      <td>28.493627</td>\n",
              "      <td>34.731648</td>\n",
              "      <td>11.396748</td>\n",
              "      <td>8.196634</td>\n",
              "      <td>5.368013</td>\n",
              "      <td>81.271987</td>\n",
              "      <td>39.533171</td>\n",
              "      <td>72.044137</td>\n",
              "    </tr>\n",
              "    <tr>\n",
              "      <th>std</th>\n",
              "      <td>177.679487</td>\n",
              "      <td>10.055105</td>\n",
              "      <td>5.784979</td>\n",
              "      <td>26.049129</td>\n",
              "      <td>25.498962</td>\n",
              "      <td>33.090023</td>\n",
              "      <td>19.673150</td>\n",
              "      <td>2.205657</td>\n",
              "      <td>1.133665</td>\n",
              "      <td>49.795186</td>\n",
              "      <td>54.661071</td>\n",
              "      <td>5.402636</td>\n",
              "    </tr>\n",
              "    <tr>\n",
              "      <th>min</th>\n",
              "      <td>1.000000</td>\n",
              "      <td>19.000000</td>\n",
              "      <td>14.900000</td>\n",
              "      <td>11.300000</td>\n",
              "      <td>0.900000</td>\n",
              "      <td>10.600000</td>\n",
              "      <td>0.800000</td>\n",
              "      <td>1.420000</td>\n",
              "      <td>1.430000</td>\n",
              "      <td>8.000000</td>\n",
              "      <td>4.500000</td>\n",
              "      <td>44.800000</td>\n",
              "    </tr>\n",
              "    <tr>\n",
              "      <th>25%</th>\n",
              "      <td>154.500000</td>\n",
              "      <td>39.000000</td>\n",
              "      <td>38.800000</td>\n",
              "      <td>52.500000</td>\n",
              "      <td>16.400000</td>\n",
              "      <td>21.600000</td>\n",
              "      <td>5.300000</td>\n",
              "      <td>6.935000</td>\n",
              "      <td>4.607500</td>\n",
              "      <td>67.000000</td>\n",
              "      <td>15.700000</td>\n",
              "      <td>69.300000</td>\n",
              "    </tr>\n",
              "    <tr>\n",
              "      <th>50%</th>\n",
              "      <td>308.000000</td>\n",
              "      <td>47.000000</td>\n",
              "      <td>42.000000</td>\n",
              "      <td>66.200000</td>\n",
              "      <td>23.000000</td>\n",
              "      <td>25.900000</td>\n",
              "      <td>7.300000</td>\n",
              "      <td>8.260000</td>\n",
              "      <td>5.300000</td>\n",
              "      <td>76.850000</td>\n",
              "      <td>23.300000</td>\n",
              "      <td>72.200000</td>\n",
              "    </tr>\n",
              "    <tr>\n",
              "      <th>75%</th>\n",
              "      <td>461.500000</td>\n",
              "      <td>54.000000</td>\n",
              "      <td>45.200000</td>\n",
              "      <td>80.100000</td>\n",
              "      <td>33.100000</td>\n",
              "      <td>32.900000</td>\n",
              "      <td>11.200000</td>\n",
              "      <td>9.590000</td>\n",
              "      <td>6.065000</td>\n",
              "      <td>88.000000</td>\n",
              "      <td>40.200000</td>\n",
              "      <td>75.400000</td>\n",
              "    </tr>\n",
              "    <tr>\n",
              "      <th>max</th>\n",
              "      <td>615.000000</td>\n",
              "      <td>77.000000</td>\n",
              "      <td>82.200000</td>\n",
              "      <td>416.600000</td>\n",
              "      <td>325.300000</td>\n",
              "      <td>324.000000</td>\n",
              "      <td>254.000000</td>\n",
              "      <td>16.410000</td>\n",
              "      <td>9.670000</td>\n",
              "      <td>1079.100000</td>\n",
              "      <td>650.900000</td>\n",
              "      <td>90.000000</td>\n",
              "    </tr>\n",
              "  </tbody>\n",
              "</table>\n",
              "</div>\n",
              "    <div class=\"colab-df-buttons\">\n",
              "\n",
              "  <div class=\"colab-df-container\">\n",
              "    <button class=\"colab-df-convert\" onclick=\"convertToInteractive('df-eb904d2e-23f9-422f-8ac4-1b379aeb56b6')\"\n",
              "            title=\"Convert this dataframe to an interactive table.\"\n",
              "            style=\"display:none;\">\n",
              "\n",
              "  <svg xmlns=\"http://www.w3.org/2000/svg\" height=\"24px\" viewBox=\"0 -960 960 960\">\n",
              "    <path d=\"M120-120v-720h720v720H120Zm60-500h600v-160H180v160Zm220 220h160v-160H400v160Zm0 220h160v-160H400v160ZM180-400h160v-160H180v160Zm440 0h160v-160H620v160ZM180-180h160v-160H180v160Zm440 0h160v-160H620v160Z\"/>\n",
              "  </svg>\n",
              "    </button>\n",
              "\n",
              "  <style>\n",
              "    .colab-df-container {\n",
              "      display:flex;\n",
              "      gap: 12px;\n",
              "    }\n",
              "\n",
              "    .colab-df-convert {\n",
              "      background-color: #E8F0FE;\n",
              "      border: none;\n",
              "      border-radius: 50%;\n",
              "      cursor: pointer;\n",
              "      display: none;\n",
              "      fill: #1967D2;\n",
              "      height: 32px;\n",
              "      padding: 0 0 0 0;\n",
              "      width: 32px;\n",
              "    }\n",
              "\n",
              "    .colab-df-convert:hover {\n",
              "      background-color: #E2EBFA;\n",
              "      box-shadow: 0px 1px 2px rgba(60, 64, 67, 0.3), 0px 1px 3px 1px rgba(60, 64, 67, 0.15);\n",
              "      fill: #174EA6;\n",
              "    }\n",
              "\n",
              "    .colab-df-buttons div {\n",
              "      margin-bottom: 4px;\n",
              "    }\n",
              "\n",
              "    [theme=dark] .colab-df-convert {\n",
              "      background-color: #3B4455;\n",
              "      fill: #D2E3FC;\n",
              "    }\n",
              "\n",
              "    [theme=dark] .colab-df-convert:hover {\n",
              "      background-color: #434B5C;\n",
              "      box-shadow: 0px 1px 3px 1px rgba(0, 0, 0, 0.15);\n",
              "      filter: drop-shadow(0px 1px 2px rgba(0, 0, 0, 0.3));\n",
              "      fill: #FFFFFF;\n",
              "    }\n",
              "  </style>\n",
              "\n",
              "    <script>\n",
              "      const buttonEl =\n",
              "        document.querySelector('#df-eb904d2e-23f9-422f-8ac4-1b379aeb56b6 button.colab-df-convert');\n",
              "      buttonEl.style.display =\n",
              "        google.colab.kernel.accessAllowed ? 'block' : 'none';\n",
              "\n",
              "      async function convertToInteractive(key) {\n",
              "        const element = document.querySelector('#df-eb904d2e-23f9-422f-8ac4-1b379aeb56b6');\n",
              "        const dataTable =\n",
              "          await google.colab.kernel.invokeFunction('convertToInteractive',\n",
              "                                                    [key], {});\n",
              "        if (!dataTable) return;\n",
              "\n",
              "        const docLinkHtml = 'Like what you see? Visit the ' +\n",
              "          '<a target=\"_blank\" href=https://colab.research.google.com/notebooks/data_table.ipynb>data table notebook</a>'\n",
              "          + ' to learn more about interactive tables.';\n",
              "        element.innerHTML = '';\n",
              "        dataTable['output_type'] = 'display_data';\n",
              "        await google.colab.output.renderOutput(dataTable, element);\n",
              "        const docLink = document.createElement('div');\n",
              "        docLink.innerHTML = docLinkHtml;\n",
              "        element.appendChild(docLink);\n",
              "      }\n",
              "    </script>\n",
              "  </div>\n",
              "\n",
              "\n",
              "<div id=\"df-90daa8bf-52bb-41a4-ac93-8b5dbfd817b5\">\n",
              "  <button class=\"colab-df-quickchart\" onclick=\"quickchart('df-90daa8bf-52bb-41a4-ac93-8b5dbfd817b5')\"\n",
              "            title=\"Suggest charts\"\n",
              "            style=\"display:none;\">\n",
              "\n",
              "<svg xmlns=\"http://www.w3.org/2000/svg\" height=\"24px\"viewBox=\"0 0 24 24\"\n",
              "     width=\"24px\">\n",
              "    <g>\n",
              "        <path d=\"M19 3H5c-1.1 0-2 .9-2 2v14c0 1.1.9 2 2 2h14c1.1 0 2-.9 2-2V5c0-1.1-.9-2-2-2zM9 17H7v-7h2v7zm4 0h-2V7h2v10zm4 0h-2v-4h2v4z\"/>\n",
              "    </g>\n",
              "</svg>\n",
              "  </button>\n",
              "\n",
              "<style>\n",
              "  .colab-df-quickchart {\n",
              "      --bg-color: #E8F0FE;\n",
              "      --fill-color: #1967D2;\n",
              "      --hover-bg-color: #E2EBFA;\n",
              "      --hover-fill-color: #174EA6;\n",
              "      --disabled-fill-color: #AAA;\n",
              "      --disabled-bg-color: #DDD;\n",
              "  }\n",
              "\n",
              "  [theme=dark] .colab-df-quickchart {\n",
              "      --bg-color: #3B4455;\n",
              "      --fill-color: #D2E3FC;\n",
              "      --hover-bg-color: #434B5C;\n",
              "      --hover-fill-color: #FFFFFF;\n",
              "      --disabled-bg-color: #3B4455;\n",
              "      --disabled-fill-color: #666;\n",
              "  }\n",
              "\n",
              "  .colab-df-quickchart {\n",
              "    background-color: var(--bg-color);\n",
              "    border: none;\n",
              "    border-radius: 50%;\n",
              "    cursor: pointer;\n",
              "    display: none;\n",
              "    fill: var(--fill-color);\n",
              "    height: 32px;\n",
              "    padding: 0;\n",
              "    width: 32px;\n",
              "  }\n",
              "\n",
              "  .colab-df-quickchart:hover {\n",
              "    background-color: var(--hover-bg-color);\n",
              "    box-shadow: 0 1px 2px rgba(60, 64, 67, 0.3), 0 1px 3px 1px rgba(60, 64, 67, 0.15);\n",
              "    fill: var(--button-hover-fill-color);\n",
              "  }\n",
              "\n",
              "  .colab-df-quickchart-complete:disabled,\n",
              "  .colab-df-quickchart-complete:disabled:hover {\n",
              "    background-color: var(--disabled-bg-color);\n",
              "    fill: var(--disabled-fill-color);\n",
              "    box-shadow: none;\n",
              "  }\n",
              "\n",
              "  .colab-df-spinner {\n",
              "    border: 2px solid var(--fill-color);\n",
              "    border-color: transparent;\n",
              "    border-bottom-color: var(--fill-color);\n",
              "    animation:\n",
              "      spin 1s steps(1) infinite;\n",
              "  }\n",
              "\n",
              "  @keyframes spin {\n",
              "    0% {\n",
              "      border-color: transparent;\n",
              "      border-bottom-color: var(--fill-color);\n",
              "      border-left-color: var(--fill-color);\n",
              "    }\n",
              "    20% {\n",
              "      border-color: transparent;\n",
              "      border-left-color: var(--fill-color);\n",
              "      border-top-color: var(--fill-color);\n",
              "    }\n",
              "    30% {\n",
              "      border-color: transparent;\n",
              "      border-left-color: var(--fill-color);\n",
              "      border-top-color: var(--fill-color);\n",
              "      border-right-color: var(--fill-color);\n",
              "    }\n",
              "    40% {\n",
              "      border-color: transparent;\n",
              "      border-right-color: var(--fill-color);\n",
              "      border-top-color: var(--fill-color);\n",
              "    }\n",
              "    60% {\n",
              "      border-color: transparent;\n",
              "      border-right-color: var(--fill-color);\n",
              "    }\n",
              "    80% {\n",
              "      border-color: transparent;\n",
              "      border-right-color: var(--fill-color);\n",
              "      border-bottom-color: var(--fill-color);\n",
              "    }\n",
              "    90% {\n",
              "      border-color: transparent;\n",
              "      border-bottom-color: var(--fill-color);\n",
              "    }\n",
              "  }\n",
              "</style>\n",
              "\n",
              "  <script>\n",
              "    async function quickchart(key) {\n",
              "      const quickchartButtonEl =\n",
              "        document.querySelector('#' + key + ' button');\n",
              "      quickchartButtonEl.disabled = true;  // To prevent multiple clicks.\n",
              "      quickchartButtonEl.classList.add('colab-df-spinner');\n",
              "      try {\n",
              "        const charts = await google.colab.kernel.invokeFunction(\n",
              "            'suggestCharts', [key], {});\n",
              "      } catch (error) {\n",
              "        console.error('Error during call to suggestCharts:', error);\n",
              "      }\n",
              "      quickchartButtonEl.classList.remove('colab-df-spinner');\n",
              "      quickchartButtonEl.classList.add('colab-df-quickchart-complete');\n",
              "    }\n",
              "    (() => {\n",
              "      let quickchartButtonEl =\n",
              "        document.querySelector('#df-90daa8bf-52bb-41a4-ac93-8b5dbfd817b5 button');\n",
              "      quickchartButtonEl.style.display =\n",
              "        google.colab.kernel.accessAllowed ? 'block' : 'none';\n",
              "    })();\n",
              "  </script>\n",
              "</div>\n",
              "    </div>\n",
              "  </div>\n"
            ]
          },
          "metadata": {},
          "execution_count": 228
        }
      ]
    },
    {
      "cell_type": "code",
      "source": [
        "data.isnull().sum()"
      ],
      "metadata": {
        "colab": {
          "base_uri": "https://localhost:8080/"
        },
        "id": "oBZ5r3_l8AcR",
        "outputId": "5436fa23-91df-45e7-d8cc-9bcdad825275"
      },
      "execution_count": 229,
      "outputs": [
        {
          "output_type": "execute_result",
          "data": {
            "text/plain": [
              "Unnamed: 0     0\n",
              "Category       0\n",
              "Age            0\n",
              "Sex            0\n",
              "ALB            2\n",
              "ALP           20\n",
              "ALT            3\n",
              "AST            2\n",
              "BIL            0\n",
              "CHE            0\n",
              "CHOL          11\n",
              "CREA           1\n",
              "GGT            0\n",
              "PROT           1\n",
              "dtype: int64"
            ]
          },
          "metadata": {},
          "execution_count": 229
        }
      ]
    },
    {
      "cell_type": "markdown",
      "source": [
        "Dropping missing values"
      ],
      "metadata": {
        "id": "EOyVN-NqMkfR"
      }
    },
    {
      "cell_type": "code",
      "source": [
        "data = data.dropna()"
      ],
      "metadata": {
        "id": "MlmqzzHP8El6"
      },
      "execution_count": 230,
      "outputs": []
    },
    {
      "cell_type": "code",
      "source": [
        "data.isnull().sum()"
      ],
      "metadata": {
        "colab": {
          "base_uri": "https://localhost:8080/"
        },
        "id": "tZfvMTR68Nmp",
        "outputId": "255459c3-12f2-4ec3-9f1f-9161b14b7272"
      },
      "execution_count": 231,
      "outputs": [
        {
          "output_type": "execute_result",
          "data": {
            "text/plain": [
              "Unnamed: 0    0\n",
              "Category      0\n",
              "Age           0\n",
              "Sex           0\n",
              "ALB           0\n",
              "ALP           0\n",
              "ALT           0\n",
              "AST           0\n",
              "BIL           0\n",
              "CHE           0\n",
              "CHOL          0\n",
              "CREA          0\n",
              "GGT           0\n",
              "PROT          0\n",
              "dtype: int64"
            ]
          },
          "metadata": {},
          "execution_count": 231
        }
      ]
    },
    {
      "cell_type": "markdown",
      "source": [
        "Our dataset is now clean"
      ],
      "metadata": {
        "id": "TYfNCgA6Mnl_"
      }
    },
    {
      "cell_type": "code",
      "source": [
        "df1 = data\n",
        "x = df1[['CREA']]\n",
        "y = df1['PROT']"
      ],
      "metadata": {
        "id": "6H2tp8uq8Sbt"
      },
      "execution_count": 232,
      "outputs": []
    },
    {
      "cell_type": "code",
      "source": [
        "from sklearn.model_selection import train_test_split\n",
        "x_train, x_test, y_train, y_test = train_test_split(x, y, test_size=0.2, random_state=42)"
      ],
      "metadata": {
        "id": "56IZiCx-8yAg"
      },
      "execution_count": 233,
      "outputs": []
    },
    {
      "cell_type": "markdown",
      "source": [
        "Implementing Simple Linear Regression and calculating the coefficients"
      ],
      "metadata": {
        "id": "DEQVHxeEMsJ6"
      }
    },
    {
      "cell_type": "code",
      "source": [
        "from sklearn.linear_model import LinearRegression\n",
        "model = LinearRegression()\n",
        "model.fit(x_train,y_train)\n",
        "\n",
        "print('Intercept:',model.intercept_)\n",
        "print('Coefficients',model.coef_)"
      ],
      "metadata": {
        "colab": {
          "base_uri": "https://localhost:8080/"
        },
        "id": "B2dePspk9U5R",
        "outputId": "6844d974-3eac-4d12-a9c2-d452b16bda56"
      },
      "execution_count": 234,
      "outputs": [
        {
          "output_type": "stream",
          "name": "stdout",
          "text": [
            "Intercept: 72.21331496647235\n",
            "Coefficients [-0.00362626]\n"
          ]
        }
      ]
    },
    {
      "cell_type": "markdown",
      "source": [
        "Evaluating Simple Linear Regression Model"
      ],
      "metadata": {
        "id": "tWG5HWKXM4lx"
      }
    },
    {
      "cell_type": "code",
      "source": [
        "from sklearn.metrics import mean_squared_error as mse\n",
        "y_pred = model.predict(x_test)\n",
        "y_test = np.array(y_test).reshape(-1,1)\n",
        "mse(y_test.reshape(-1,1),y_pred)"
      ],
      "metadata": {
        "colab": {
          "base_uri": "https://localhost:8080/"
        },
        "id": "rS2UHYP8_eLj",
        "outputId": "0568830d-90b0-4d5e-825d-02c58447bbe1"
      },
      "execution_count": 235,
      "outputs": [
        {
          "output_type": "execute_result",
          "data": {
            "text/plain": [
              "24.98052149031294"
            ]
          },
          "metadata": {},
          "execution_count": 235
        }
      ]
    },
    {
      "cell_type": "markdown",
      "source": [
        "Calculating Variance Inflation Factor for mentioned attributes"
      ],
      "metadata": {
        "id": "SLTjSXHdM8cW"
      }
    },
    {
      "cell_type": "code",
      "source": [
        "from statsmodels.stats.outliers_influence import variance_inflation_factor\n",
        "x = df1.drop(['Unnamed: 0','Category','Age','Sex'],axis=1)\n",
        "vif = pd.Series([variance_inflation_factor(x.values,idx)\n",
        "                 for idx in range(x.shape[1])],\n",
        "                index=x.columns)\n",
        "print(vif)"
      ],
      "metadata": {
        "colab": {
          "base_uri": "https://localhost:8080/"
        },
        "id": "iKpRdnzi9kNX",
        "outputId": "88c0b317-93af-44f0-8b76-a8bbb62300a3"
      },
      "execution_count": 236,
      "outputs": [
        {
          "output_type": "stream",
          "name": "stdout",
          "text": [
            "ALB      89.166626\n",
            "ALP      10.736817\n",
            "ALT       3.216524\n",
            "AST       3.310986\n",
            "BIL       1.722888\n",
            "CHE      22.742672\n",
            "CHOL     31.140640\n",
            "CREA      3.692195\n",
            "GGT       2.588358\n",
            "PROT    129.812863\n",
            "dtype: float64\n"
          ]
        }
      ]
    },
    {
      "cell_type": "markdown",
      "source": [
        "Selecting best attributes according to VIF factor"
      ],
      "metadata": {
        "id": "Ah6c6F1VNGBS"
      }
    },
    {
      "cell_type": "code",
      "source": [
        "x = df1[['BIL','GGT']]\n",
        "vif = pd.Series([variance_inflation_factor(x.values,idx)\n",
        "                 for idx in range(x.shape[1])],\n",
        "                index=x.columns)\n",
        "print(vif)"
      ],
      "metadata": {
        "colab": {
          "base_uri": "https://localhost:8080/"
        },
        "id": "o8ScdCXY-m8Y",
        "outputId": "ee88501c-bc5d-4ff5-b75f-b3152e9047df"
      },
      "execution_count": 237,
      "outputs": [
        {
          "output_type": "stream",
          "name": "stdout",
          "text": [
            "BIL    1.272752\n",
            "GGT    1.272752\n",
            "dtype: float64\n"
          ]
        }
      ]
    },
    {
      "cell_type": "code",
      "source": [
        "from sklearn.model_selection import train_test_split\n",
        "x_train, x_test, y_train, y_test = train_test_split(x, y, test_size=0.2, random_state=42)"
      ],
      "metadata": {
        "id": "ORAizgwq-37R"
      },
      "execution_count": 238,
      "outputs": []
    },
    {
      "cell_type": "markdown",
      "source": [
        "Implementing Multiple Linear Regression and calculating the coefficients"
      ],
      "metadata": {
        "id": "oWEk4H7dNRkA"
      }
    },
    {
      "cell_type": "code",
      "source": [
        "model = LinearRegression()\n",
        "model.fit(x_train,y_train)\n",
        "print(\"Intercept: \",model.intercept_,\"\\nCoefficients: \",model.coef_)"
      ],
      "metadata": {
        "colab": {
          "base_uri": "https://localhost:8080/"
        },
        "id": "maR-L7s4_L85",
        "outputId": "9c471d06-28c8-467c-8da0-72e5038d213c"
      },
      "execution_count": 239,
      "outputs": [
        {
          "output_type": "stream",
          "name": "stdout",
          "text": [
            "Intercept:  72.00692845165706 \n",
            "Coefficients:  [ 0.00828071 -0.00484301]\n"
          ]
        }
      ]
    },
    {
      "cell_type": "markdown",
      "source": [
        "Evaluating Multiple Linear Regression Model"
      ],
      "metadata": {
        "id": "sKIo_HlUNkLU"
      }
    },
    {
      "cell_type": "code",
      "source": [
        "y_pred = model.predict(x_test)\n",
        "y_test = np.array(y_test).reshape(-1,1)\n",
        "mse(y_test.reshape(-1,1),y_pred)"
      ],
      "metadata": {
        "colab": {
          "base_uri": "https://localhost:8080/"
        },
        "id": "R8qtJ5UO_N2n",
        "outputId": "4dddcaab-7626-4c22-e528-d760a40664c9"
      },
      "execution_count": 240,
      "outputs": [
        {
          "output_type": "execute_result",
          "data": {
            "text/plain": [
              "25.152947320636034"
            ]
          },
          "metadata": {},
          "execution_count": 240
        }
      ]
    },
    {
      "cell_type": "markdown",
      "source": [
        "Selecting the feature with highest VIF score"
      ],
      "metadata": {
        "id": "AkoftCt_No6h"
      }
    },
    {
      "cell_type": "code",
      "source": [
        "x = df1[['ALB']]"
      ],
      "metadata": {
        "id": "L0V4ydiDGkw0"
      },
      "execution_count": 241,
      "outputs": []
    },
    {
      "cell_type": "code",
      "source": [
        "from sklearn.model_selection import train_test_split\n",
        "x_train, x_test, y_train, y_test = train_test_split(x, y, test_size=0.2, random_state=42)"
      ],
      "metadata": {
        "id": "zv_oXtsUGxYz"
      },
      "execution_count": 242,
      "outputs": []
    },
    {
      "cell_type": "markdown",
      "source": [
        "Implementing Polynomial Regression and calculating the coefficients (for degree 2)"
      ],
      "metadata": {
        "id": "jl6sXI8sNxIt"
      }
    },
    {
      "cell_type": "code",
      "source": [
        "from sklearn.preprocessing import PolynomialFeatures\n",
        "p=PolynomialFeatures(degree=2,include_bias=True)\n",
        "x_train_p=p.fit_transform(x_train)\n",
        "x_test_p=p.transform(x_test)\n",
        "\n",
        "model=LinearRegression()\n",
        "model.fit(x_train_p,y_train)\n",
        "print(model.coef_)\n",
        "print(model.intercept_)"
      ],
      "metadata": {
        "colab": {
          "base_uri": "https://localhost:8080/"
        },
        "id": "Fof-9DqLBp32",
        "outputId": "0dbb96cd-50cd-4bdc-8031-9850c3a5b8bc"
      },
      "execution_count": 243,
      "outputs": [
        {
          "output_type": "stream",
          "name": "stdout",
          "text": [
            "[ 0.          1.92168267 -0.01650093]\n",
            "21.053019242586814\n"
          ]
        }
      ]
    },
    {
      "cell_type": "markdown",
      "source": [
        "Evaluating Polynomial Regression Model with degree 2"
      ],
      "metadata": {
        "id": "OvNYLeleN8ZX"
      }
    },
    {
      "cell_type": "code",
      "source": [
        "y_pred = model.predict(x_test_p)\n",
        "y_test = np.array(y_test).reshape(-1,1)\n",
        "mse(y_test.reshape(-1,1),y_pred)"
      ],
      "metadata": {
        "colab": {
          "base_uri": "https://localhost:8080/"
        },
        "id": "tMgzr8izCnaV",
        "outputId": "dea5aacd-89a8-437b-ba5d-9afe2cf09904"
      },
      "execution_count": 244,
      "outputs": [
        {
          "output_type": "execute_result",
          "data": {
            "text/plain": [
              "20.083890933197896"
            ]
          },
          "metadata": {},
          "execution_count": 244
        }
      ]
    },
    {
      "cell_type": "markdown",
      "source": [
        "Implementing Polynomial Regression and calculating the coefficients (for degree 3)"
      ],
      "metadata": {
        "id": "MBYx0iboOG8S"
      }
    },
    {
      "cell_type": "code",
      "source": [
        "p=PolynomialFeatures(degree=3,include_bias=True)\n",
        "x_train_p=p.fit_transform(x_train)\n",
        "x_test_p=p.transform(x_test)\n",
        "\n",
        "model=LinearRegression()\n",
        "model.fit(x_train_p,y_train)\n",
        "print(model.coef_)\n",
        "print(model.intercept_)"
      ],
      "metadata": {
        "colab": {
          "base_uri": "https://localhost:8080/"
        },
        "id": "RK-0TMX_CNWr",
        "outputId": "ffbd07d4-0499-4f00-82d5-8e98ea33d4ee"
      },
      "execution_count": 245,
      "outputs": [
        {
          "output_type": "stream",
          "name": "stdout",
          "text": [
            "[ 0.00000000e+00  1.96588342e+00 -1.75023127e-02  7.06705807e-06]\n",
            "20.442489097332476\n"
          ]
        }
      ]
    },
    {
      "cell_type": "markdown",
      "source": [
        "Evaluating Polynomial Regression Model with degree 3"
      ],
      "metadata": {
        "id": "Scao9HU1OLou"
      }
    },
    {
      "cell_type": "code",
      "source": [
        "y_pred = model.predict(x_test_p)\n",
        "y_test = np.array(y_test).reshape(-1,1)\n",
        "mse(y_test.reshape(-1,1),y_pred)"
      ],
      "metadata": {
        "colab": {
          "base_uri": "https://localhost:8080/"
        },
        "id": "UdgRKLDwDFHH",
        "outputId": "c597a9ce-7ea8-498c-e825-0d5073e8b5eb"
      },
      "execution_count": 246,
      "outputs": [
        {
          "output_type": "execute_result",
          "data": {
            "text/plain": [
              "20.084883661793377"
            ]
          },
          "metadata": {},
          "execution_count": 246
        }
      ]
    },
    {
      "cell_type": "markdown",
      "source": [
        "Implementing Polynomial Regression and calculating the coefficients (for degree 4)"
      ],
      "metadata": {
        "id": "HbGlzEuOOQs_"
      }
    },
    {
      "cell_type": "code",
      "source": [
        "p=PolynomialFeatures(degree=4,include_bias=True)\n",
        "x_train_p=p.fit_transform(x_train)\n",
        "x_test_p=p.transform(x_test)\n",
        "\n",
        "model=LinearRegression()\n",
        "model.fit(x_train_p,y_train)\n",
        "print(model.coef_)\n",
        "print(model.intercept_)"
      ],
      "metadata": {
        "colab": {
          "base_uri": "https://localhost:8080/"
        },
        "id": "m4RgPETkCaYb",
        "outputId": "5d3710c5-27dc-4f3a-e471-f709129b4aa6"
      },
      "execution_count": 247,
      "outputs": [
        {
          "output_type": "stream",
          "name": "stdout",
          "text": [
            "[ 0.00000000e+00  4.16092720e+00 -9.85042521e-02  1.24608445e-03\n",
            " -6.60269861e-06]\n",
            "-0.208760367715783\n"
          ]
        }
      ]
    },
    {
      "cell_type": "markdown",
      "source": [
        "Evaluating Polynomial Regression Model with degree 4"
      ],
      "metadata": {
        "id": "tkiP8m7ROWzp"
      }
    },
    {
      "cell_type": "code",
      "source": [
        "y_pred = model.predict(x_test_p)\n",
        "y_test = np.array(y_test).reshape(-1,1)\n",
        "mse(y_test.reshape(-1,1),y_pred)"
      ],
      "metadata": {
        "colab": {
          "base_uri": "https://localhost:8080/"
        },
        "id": "7j9hw0vODLKl",
        "outputId": "5e6a5dbe-1beb-49d9-8601-745ec80bdfae"
      },
      "execution_count": 248,
      "outputs": [
        {
          "output_type": "execute_result",
          "data": {
            "text/plain": [
              "20.082153884716128"
            ]
          },
          "metadata": {},
          "execution_count": 248
        }
      ]
    },
    {
      "cell_type": "markdown",
      "source": [
        "Implementing Ridge Regression and calculating best parameters and score"
      ],
      "metadata": {
        "id": "ceApFwS5Ocuf"
      }
    },
    {
      "cell_type": "code",
      "source": [
        "from sklearn.linear_model import Ridge\n",
        "from sklearn.model_selection import GridSearchCV\n",
        "ridge=Ridge()\n",
        "parameters={'alpha':[0.001,0.01,1,5,10,20,30,35,40,45,50,55,100,150]}\n",
        "ridge_regressor=GridSearchCV(ridge,parameters,scoring='neg_mean_squared_error',cv=5)\n",
        "ridge_regressor.fit(x_train,y_train)\n",
        "\n",
        "print(ridge_regressor.best_params_)\n",
        "print(ridge_regressor.best_score_)"
      ],
      "metadata": {
        "colab": {
          "base_uri": "https://localhost:8080/"
        },
        "id": "hTML4C08DekL",
        "outputId": "15fc3f89-e7b9-4b5b-dd49-f67629a8612a"
      },
      "execution_count": 249,
      "outputs": [
        {
          "output_type": "stream",
          "name": "stdout",
          "text": [
            "{'alpha': 150}\n",
            "-20.105996309644524\n"
          ]
        }
      ]
    },
    {
      "cell_type": "markdown",
      "source": [
        "Evaluating Ridge Regression Model"
      ],
      "metadata": {
        "id": "MpgP1SMwOsUU"
      }
    },
    {
      "cell_type": "code",
      "source": [
        "y_pred = ridge_regressor.predict(x_test)\n",
        "y_test = np.array(y_test).reshape(-1,1)\n",
        "mse(y_test.reshape(-1,1),y_pred)"
      ],
      "metadata": {
        "colab": {
          "base_uri": "https://localhost:8080/"
        },
        "id": "aCLUKzHFLQMp",
        "outputId": "8442502e-a42b-46e4-c3ff-656fad7b2110"
      },
      "execution_count": 253,
      "outputs": [
        {
          "output_type": "execute_result",
          "data": {
            "text/plain": [
              "20.0121579228739"
            ]
          },
          "metadata": {},
          "execution_count": 253
        }
      ]
    },
    {
      "cell_type": "markdown",
      "source": [
        "Implementing Lasso Regression and calculating best parameters and score"
      ],
      "metadata": {
        "id": "v14fUbQGOmL-"
      }
    },
    {
      "cell_type": "code",
      "source": [
        "from sklearn.linear_model import Lasso\n",
        "from sklearn.model_selection import GridSearchCV\n",
        "lasso=Lasso()\n",
        "parameters={'alpha':[0.001,0.01,1,5,10,20,30,35,40,45,50,55,100,150]}\n",
        "lasso_regressor=GridSearchCV(lasso,parameters,scoring='neg_mean_squared_error',cv=5)\n",
        "lasso_regressor.fit(x_train,y_train)\n",
        "\n",
        "print(lasso_regressor.best_params_)\n",
        "print(lasso_regressor.best_score_)"
      ],
      "metadata": {
        "colab": {
          "base_uri": "https://localhost:8080/"
        },
        "id": "TeipSVptERde",
        "outputId": "32d0d1a3-1e6b-4ed6-d4f5-33236a4c1b55"
      },
      "execution_count": 250,
      "outputs": [
        {
          "output_type": "stream",
          "name": "stdout",
          "text": [
            "{'alpha': 1}\n",
            "-20.110696918144793\n"
          ]
        }
      ]
    },
    {
      "cell_type": "markdown",
      "source": [
        "Evaluating Lasso Regression Model"
      ],
      "metadata": {
        "id": "Lsi0e-K8Ox9T"
      }
    },
    {
      "cell_type": "code",
      "source": [
        "y_pred = lasso_regressor.predict(x_test)\n",
        "y_test = np.array(y_test).reshape(-1,1)\n",
        "mse(y_test.reshape(-1,1),y_pred)"
      ],
      "metadata": {
        "colab": {
          "base_uri": "https://localhost:8080/"
        },
        "id": "eEDErxzTHsEB",
        "outputId": "5dcbf563-72ae-413f-8b6f-9a3a69d54f44"
      },
      "execution_count": 255,
      "outputs": [
        {
          "output_type": "execute_result",
          "data": {
            "text/plain": [
              "19.800770861750088"
            ]
          },
          "metadata": {},
          "execution_count": 255
        }
      ]
    },
    {
      "cell_type": "markdown",
      "source": [
        "Comparative Analysis Visualization of models based on MSE values"
      ],
      "metadata": {
        "id": "jqFgMOTYO0qI"
      }
    },
    {
      "cell_type": "code",
      "source": [
        "regression_types = [\"Simple Linear\", \"Multiple Linear\", \"Polynomial\", \"Ridge\", \"Lasso\"]\n",
        "mse_values = [24.98, 25.15, 20.08, 20.01, 19.80]\n",
        "plt.figure(figsize=(10, 6))\n",
        "plt.bar(regression_types, mse_values, color='skyblue')\n",
        "plt.title('Mean Squared Error for Different Regression Types')\n",
        "plt.xlabel('Regression Types')\n",
        "plt.ylabel('Mean Squared Error')\n",
        "plt.ylim(0, max(mse_values) + 2)\n",
        "for i, value in enumerate(mse_values):\n",
        "    plt.text(i, value + 0.5, f'{value:.2f}', ha='center', va='bottom')\n",
        "plt.show()"
      ],
      "metadata": {
        "colab": {
          "base_uri": "https://localhost:8080/",
          "height": 564
        },
        "id": "-vJ9TmMSJWo_",
        "outputId": "fd98cea3-83fc-4467-a582-776473fd86e5"
      },
      "execution_count": 258,
      "outputs": [
        {
          "output_type": "display_data",
          "data": {
            "text/plain": [
              "<Figure size 1000x600 with 1 Axes>"
            ],
            "image/png": "[encoded data removed]"
          },
          "metadata": {}
        }
      ]
    },
    {
      "cell_type": "markdown",
      "source": [
        "The prime inference that we can draw from this lab work and also from the bar chart representation of MSE values for different Regression models is that, the model gives ordinary results with Simple and Linear Regression models. When the best fit line is allowed to be non-linear, as in case of Polynomial Regression, MSE values decreases by a good margin indicating better fit on Test data.\n",
        "      Upon L1 and L2 regularization as in case of Lasso and\n",
        "Ridge Regression, model fits better on test data upon generalization although the nature of graph remains linear."
      ],
      "metadata": {
        "id": "_acbAjqGP47t"
      }
    }
  ]
}
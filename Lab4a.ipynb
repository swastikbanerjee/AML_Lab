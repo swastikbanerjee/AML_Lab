{
  "nbformat": 4,
  "nbformat_minor": 0,
  "metadata": {
    "colab": {
      "provenance": [],
      "authorship_tag": "ABX9TyOsDwyKFmWabpJCoO0qQzOD",
      "include_colab_link": true
    },
    "kernelspec": {
      "name": "python3",
      "display_name": "Python 3"
    },
    "language_info": {
      "name": "python"
    }
  },
  "cells": [
    {
      "cell_type": "markdown",
      "metadata": {
        "id": "view-in-github",
        "colab_type": "text"
      },
      "source": [
        "<a href=\"https://colab.research.google.com/github/swastikbanerjee/AML_Lab/blob/main/Lab4a.ipynb\" target=\"_parent\"><img src=\"https://colab.research.google.com/assets/colab-badge.svg\" alt=\"Open In Colab\"/></a>"
      ]
    },
    {
      "cell_type": "markdown",
      "source": [
        "Importing Dependencies"
      ],
      "metadata": {
        "id": "hA4D-671MC_g"
      }
    },
    {
      "cell_type": "code",
      "execution_count": 477,
      "metadata": {
        "id": "CthmtkToAo4P"
      },
      "outputs": [],
      "source": [
        "import pandas as pd\n",
        "import numpy as np\n",
        "import matplotlib.pyplot as plt\n",
        "import seaborn as sns\n",
        "import warnings\n",
        "warnings.filterwarnings(\"ignore\")"
      ]
    },
    {
      "cell_type": "markdown",
      "source": [
        "Importing Dataset"
      ],
      "metadata": {
        "id": "M4sFl6DnMIrL"
      }
    },
    {
      "cell_type": "code",
      "source": [
        "data = pd.read_csv(\"/content/Program_4_Dataset.csv\")"
      ],
      "metadata": {
        "id": "ZYmApJSxBH5N"
      },
      "execution_count": 478,
      "outputs": []
    },
    {
      "cell_type": "code",
      "source": [
        "data.shape"
      ],
      "metadata": {
        "colab": {
          "base_uri": "https://localhost:8080/"
        },
        "id": "vwUBHpHeBOeE",
        "outputId": "893bd19e-11b4-4303-91e4-135cee817be3"
      },
      "execution_count": 479,
      "outputs": [
        {
          "output_type": "execute_result",
          "data": {
            "text/plain": [
              "(2878, 6)"
            ]
          },
          "metadata": {},
          "execution_count": 479
        }
      ]
    },
    {
      "cell_type": "code",
      "source": [
        "data.head()"
      ],
      "metadata": {
        "colab": {
          "base_uri": "https://localhost:8080/",
          "height": 206
        },
        "id": "rUXQOS2KBPs5",
        "outputId": "0016e739-fa6a-4674-b6d9-b1341a77975d"
      },
      "execution_count": 480,
      "outputs": [
        {
          "output_type": "execute_result",
          "data": {
            "text/plain": [
              "   index  OS_Time_Stamp  Temperature  Pressure  Humidity  \\\n",
              "0      0     1456761674         17.7    1015.2      76.4   \n",
              "1      1     1456761733         17.7    1015.3      76.4   \n",
              "2      2     1456761792         17.7    1015.3      76.5   \n",
              "3      3     1456761853         17.7    1015.3      76.7   \n",
              "4      4     1456761912         17.6    1015.2      76.8   \n",
              "\n",
              "                   TimeStamp  \n",
              "0  2016-03-01 00:01:14+08:00  \n",
              "1  2016-03-01 00:02:13+08:00  \n",
              "2  2016-03-01 00:03:12+08:00  \n",
              "3  2016-03-01 00:04:13+08:00  \n",
              "4  2016-03-01 00:05:12+08:00  "
            ],
            "text/html": [
              "\n",
              "  <div id=\"df-973d0680-3892-4770-b167-7b75d939ca75\" class=\"colab-df-container\">\n",
              "    <div>\n",
              "<style scoped>\n",
              "    .dataframe tbody tr th:only-of-type {\n",
              "        vertical-align: middle;\n",
              "    }\n",
              "\n",
              "    .dataframe tbody tr th {\n",
              "        vertical-align: top;\n",
              "    }\n",
              "\n",
              "    .dataframe thead th {\n",
              "        text-align: right;\n",
              "    }\n",
              "</style>\n",
              "<table border=\"1\" class=\"dataframe\">\n",
              "  <thead>\n",
              "    <tr style=\"text-align: right;\">\n",
              "      <th></th>\n",
              "      <th>index</th>\n",
              "      <th>OS_Time_Stamp</th>\n",
              "      <th>Temperature</th>\n",
              "      <th>Pressure</th>\n",
              "      <th>Humidity</th>\n",
              "      <th>TimeStamp</th>\n",
              "    </tr>\n",
              "  </thead>\n",
              "  <tbody>\n",
              "    <tr>\n",
              "      <th>0</th>\n",
              "      <td>0</td>\n",
              "      <td>1456761674</td>\n",
              "      <td>17.7</td>\n",
              "      <td>1015.2</td>\n",
              "      <td>76.4</td>\n",
              "      <td>2016-03-01 00:01:14+08:00</td>\n",
              "    </tr>\n",
              "    <tr>\n",
              "      <th>1</th>\n",
              "      <td>1</td>\n",
              "      <td>1456761733</td>\n",
              "      <td>17.7</td>\n",
              "      <td>1015.3</td>\n",
              "      <td>76.4</td>\n",
              "      <td>2016-03-01 00:02:13+08:00</td>\n",
              "    </tr>\n",
              "    <tr>\n",
              "      <th>2</th>\n",
              "      <td>2</td>\n",
              "      <td>1456761792</td>\n",
              "      <td>17.7</td>\n",
              "      <td>1015.3</td>\n",
              "      <td>76.5</td>\n",
              "      <td>2016-03-01 00:03:12+08:00</td>\n",
              "    </tr>\n",
              "    <tr>\n",
              "      <th>3</th>\n",
              "      <td>3</td>\n",
              "      <td>1456761853</td>\n",
              "      <td>17.7</td>\n",
              "      <td>1015.3</td>\n",
              "      <td>76.7</td>\n",
              "      <td>2016-03-01 00:04:13+08:00</td>\n",
              "    </tr>\n",
              "    <tr>\n",
              "      <th>4</th>\n",
              "      <td>4</td>\n",
              "      <td>1456761912</td>\n",
              "      <td>17.6</td>\n",
              "      <td>1015.2</td>\n",
              "      <td>76.8</td>\n",
              "      <td>2016-03-01 00:05:12+08:00</td>\n",
              "    </tr>\n",
              "  </tbody>\n",
              "</table>\n",
              "</div>\n",
              "    <div class=\"colab-df-buttons\">\n",
              "\n",
              "  <div class=\"colab-df-container\">\n",
              "    <button class=\"colab-df-convert\" onclick=\"convertToInteractive('df-973d0680-3892-4770-b167-7b75d939ca75')\"\n",
              "            title=\"Convert this dataframe to an interactive table.\"\n",
              "            style=\"display:none;\">\n",
              "\n",
              "  <svg xmlns=\"http://www.w3.org/2000/svg\" height=\"24px\" viewBox=\"0 -960 960 960\">\n",
              "    <path d=\"M120-120v-720h720v720H120Zm60-500h600v-160H180v160Zm220 220h160v-160H400v160Zm0 220h160v-160H400v160ZM180-400h160v-160H180v160Zm440 0h160v-160H620v160ZM180-180h160v-160H180v160Zm440 0h160v-160H620v160Z\"/>\n",
              "  </svg>\n",
              "    </button>\n",
              "\n",
              "  <style>\n",
              "    .colab-df-container {\n",
              "      display:flex;\n",
              "      gap: 12px;\n",
              "    }\n",
              "\n",
              "    .colab-df-convert {\n",
              "      background-color: #E8F0FE;\n",
              "      border: none;\n",
              "      border-radius: 50%;\n",
              "      cursor: pointer;\n",
              "      display: none;\n",
              "      fill: #1967D2;\n",
              "      height: 32px;\n",
              "      padding: 0 0 0 0;\n",
              "      width: 32px;\n",
              "    }\n",
              "\n",
              "    .colab-df-convert:hover {\n",
              "      background-color: #E2EBFA;\n",
              "      box-shadow: 0px 1px 2px rgba(60, 64, 67, 0.3), 0px 1px 3px 1px rgba(60, 64, 67, 0.15);\n",
              "      fill: #174EA6;\n",
              "    }\n",
              "\n",
              "    .colab-df-buttons div {\n",
              "      margin-bottom: 4px;\n",
              "    }\n",
              "\n",
              "    [theme=dark] .colab-df-convert {\n",
              "      background-color: #3B4455;\n",
              "      fill: #D2E3FC;\n",
              "    }\n",
              "\n",
              "    [theme=dark] .colab-df-convert:hover {\n",
              "      background-color: #434B5C;\n",
              "      box-shadow: 0px 1px 3px 1px rgba(0, 0, 0, 0.15);\n",
              "      filter: drop-shadow(0px 1px 2px rgba(0, 0, 0, 0.3));\n",
              "      fill: #FFFFFF;\n",
              "    }\n",
              "  </style>\n",
              "\n",
              "    <script>\n",
              "      const buttonEl =\n",
              "        document.querySelector('#df-973d0680-3892-4770-b167-7b75d939ca75 button.colab-df-convert');\n",
              "      buttonEl.style.display =\n",
              "        google.colab.kernel.accessAllowed ? 'block' : 'none';\n",
              "\n",
              "      async function convertToInteractive(key) {\n",
              "        const element = document.querySelector('#df-973d0680-3892-4770-b167-7b75d939ca75');\n",
              "        const dataTable =\n",
              "          await google.colab.kernel.invokeFunction('convertToInteractive',\n",
              "                                                    [key], {});\n",
              "        if (!dataTable) return;\n",
              "\n",
              "        const docLinkHtml = 'Like what you see? Visit the ' +\n",
              "          '<a target=\"_blank\" href=https://colab.research.google.com/notebooks/data_table.ipynb>data table notebook</a>'\n",
              "          + ' to learn more about interactive tables.';\n",
              "        element.innerHTML = '';\n",
              "        dataTable['output_type'] = 'display_data';\n",
              "        await google.colab.output.renderOutput(dataTable, element);\n",
              "        const docLink = document.createElement('div');\n",
              "        docLink.innerHTML = docLinkHtml;\n",
              "        element.appendChild(docLink);\n",
              "      }\n",
              "    </script>\n",
              "  </div>\n",
              "\n",
              "\n",
              "<div id=\"df-03506545-9281-4c50-bc6d-f8480f1937bf\">\n",
              "  <button class=\"colab-df-quickchart\" onclick=\"quickchart('df-03506545-9281-4c50-bc6d-f8480f1937bf')\"\n",
              "            title=\"Suggest charts\"\n",
              "            style=\"display:none;\">\n",
              "\n",
              "<svg xmlns=\"http://www.w3.org/2000/svg\" height=\"24px\"viewBox=\"0 0 24 24\"\n",
              "     width=\"24px\">\n",
              "    <g>\n",
              "        <path d=\"M19 3H5c-1.1 0-2 .9-2 2v14c0 1.1.9 2 2 2h14c1.1 0 2-.9 2-2V5c0-1.1-.9-2-2-2zM9 17H7v-7h2v7zm4 0h-2V7h2v10zm4 0h-2v-4h2v4z\"/>\n",
              "    </g>\n",
              "</svg>\n",
              "  </button>\n",
              "\n",
              "<style>\n",
              "  .colab-df-quickchart {\n",
              "      --bg-color: #E8F0FE;\n",
              "      --fill-color: #1967D2;\n",
              "      --hover-bg-color: #E2EBFA;\n",
              "      --hover-fill-color: #174EA6;\n",
              "      --disabled-fill-color: #AAA;\n",
              "      --disabled-bg-color: #DDD;\n",
              "  }\n",
              "\n",
              "  [theme=dark] .colab-df-quickchart {\n",
              "      --bg-color: #3B4455;\n",
              "      --fill-color: #D2E3FC;\n",
              "      --hover-bg-color: #434B5C;\n",
              "      --hover-fill-color: #FFFFFF;\n",
              "      --disabled-bg-color: #3B4455;\n",
              "      --disabled-fill-color: #666;\n",
              "  }\n",
              "\n",
              "  .colab-df-quickchart {\n",
              "    background-color: var(--bg-color);\n",
              "    border: none;\n",
              "    border-radius: 50%;\n",
              "    cursor: pointer;\n",
              "    display: none;\n",
              "    fill: var(--fill-color);\n",
              "    height: 32px;\n",
              "    padding: 0;\n",
              "    width: 32px;\n",
              "  }\n",
              "\n",
              "  .colab-df-quickchart:hover {\n",
              "    background-color: var(--hover-bg-color);\n",
              "    box-shadow: 0 1px 2px rgba(60, 64, 67, 0.3), 0 1px 3px 1px rgba(60, 64, 67, 0.15);\n",
              "    fill: var(--button-hover-fill-color);\n",
              "  }\n",
              "\n",
              "  .colab-df-quickchart-complete:disabled,\n",
              "  .colab-df-quickchart-complete:disabled:hover {\n",
              "    background-color: var(--disabled-bg-color);\n",
              "    fill: var(--disabled-fill-color);\n",
              "    box-shadow: none;\n",
              "  }\n",
              "\n",
              "  .colab-df-spinner {\n",
              "    border: 2px solid var(--fill-color);\n",
              "    border-color: transparent;\n",
              "    border-bottom-color: var(--fill-color);\n",
              "    animation:\n",
              "      spin 1s steps(1) infinite;\n",
              "  }\n",
              "\n",
              "  @keyframes spin {\n",
              "    0% {\n",
              "      border-color: transparent;\n",
              "      border-bottom-color: var(--fill-color);\n",
              "      border-left-color: var(--fill-color);\n",
              "    }\n",
              "    20% {\n",
              "      border-color: transparent;\n",
              "      border-left-color: var(--fill-color);\n",
              "      border-top-color: var(--fill-color);\n",
              "    }\n",
              "    30% {\n",
              "      border-color: transparent;\n",
              "      border-left-color: var(--fill-color);\n",
              "      border-top-color: var(--fill-color);\n",
              "      border-right-color: var(--fill-color);\n",
              "    }\n",
              "    40% {\n",
              "      border-color: transparent;\n",
              "      border-right-color: var(--fill-color);\n",
              "      border-top-color: var(--fill-color);\n",
              "    }\n",
              "    60% {\n",
              "      border-color: transparent;\n",
              "      border-right-color: var(--fill-color);\n",
              "    }\n",
              "    80% {\n",
              "      border-color: transparent;\n",
              "      border-right-color: var(--fill-color);\n",
              "      border-bottom-color: var(--fill-color);\n",
              "    }\n",
              "    90% {\n",
              "      border-color: transparent;\n",
              "      border-bottom-color: var(--fill-color);\n",
              "    }\n",
              "  }\n",
              "</style>\n",
              "\n",
              "  <script>\n",
              "    async function quickchart(key) {\n",
              "      const quickchartButtonEl =\n",
              "        document.querySelector('#' + key + ' button');\n",
              "      quickchartButtonEl.disabled = true;  // To prevent multiple clicks.\n",
              "      quickchartButtonEl.classList.add('colab-df-spinner');\n",
              "      try {\n",
              "        const charts = await google.colab.kernel.invokeFunction(\n",
              "            'suggestCharts', [key], {});\n",
              "      } catch (error) {\n",
              "        console.error('Error during call to suggestCharts:', error);\n",
              "      }\n",
              "      quickchartButtonEl.classList.remove('colab-df-spinner');\n",
              "      quickchartButtonEl.classList.add('colab-df-quickchart-complete');\n",
              "    }\n",
              "    (() => {\n",
              "      let quickchartButtonEl =\n",
              "        document.querySelector('#df-03506545-9281-4c50-bc6d-f8480f1937bf button');\n",
              "      quickchartButtonEl.style.display =\n",
              "        google.colab.kernel.accessAllowed ? 'block' : 'none';\n",
              "    })();\n",
              "  </script>\n",
              "</div>\n",
              "    </div>\n",
              "  </div>\n"
            ]
          },
          "metadata": {},
          "execution_count": 480
        }
      ]
    },
    {
      "cell_type": "code",
      "source": [
        "data.describe()"
      ],
      "metadata": {
        "colab": {
          "base_uri": "https://localhost:8080/",
          "height": 300
        },
        "id": "p6xpGVGbBRlK",
        "outputId": "dcd7d58c-d543-469d-9fa4-de1231ecbf4a"
      },
      "execution_count": 481,
      "outputs": [
        {
          "output_type": "execute_result",
          "data": {
            "text/plain": [
              "             index  OS_Time_Stamp  Temperature     Pressure     Humidity\n",
              "count  2878.000000   2.878000e+03  2878.000000  2878.000000  2878.000000\n",
              "mean    719.000000   1.460520e+09    24.153648  1005.862543    80.653475\n",
              "std     415.475606   3.715930e+06     4.925571     8.401371    22.736845\n",
              "min       0.000000   1.456762e+09    14.800000   994.000000    40.000000\n",
              "25%     359.250000   1.456805e+09    20.100000   997.300000    56.650000\n",
              "50%     719.000000   1.460520e+09    26.000000  1010.500000    92.300000\n",
              "75%    1078.750000   1.464235e+09    28.275000  1013.700000   100.000000\n",
              "max    1438.000000   1.464278e+09    31.400000  1016.700000   100.000000"
            ],
            "text/html": [
              "\n",
              "  <div id=\"df-4a2a4c66-a360-49ad-b4d9-aacf13a0d5d8\" class=\"colab-df-container\">\n",
              "    <div>\n",
              "<style scoped>\n",
              "    .dataframe tbody tr th:only-of-type {\n",
              "        vertical-align: middle;\n",
              "    }\n",
              "\n",
              "    .dataframe tbody tr th {\n",
              "        vertical-align: top;\n",
              "    }\n",
              "\n",
              "    .dataframe thead th {\n",
              "        text-align: right;\n",
              "    }\n",
              "</style>\n",
              "<table border=\"1\" class=\"dataframe\">\n",
              "  <thead>\n",
              "    <tr style=\"text-align: right;\">\n",
              "      <th></th>\n",
              "      <th>index</th>\n",
              "      <th>OS_Time_Stamp</th>\n",
              "      <th>Temperature</th>\n",
              "      <th>Pressure</th>\n",
              "      <th>Humidity</th>\n",
              "    </tr>\n",
              "  </thead>\n",
              "  <tbody>\n",
              "    <tr>\n",
              "      <th>count</th>\n",
              "      <td>2878.000000</td>\n",
              "      <td>2.878000e+03</td>\n",
              "      <td>2878.000000</td>\n",
              "      <td>2878.000000</td>\n",
              "      <td>2878.000000</td>\n",
              "    </tr>\n",
              "    <tr>\n",
              "      <th>mean</th>\n",
              "      <td>719.000000</td>\n",
              "      <td>1.460520e+09</td>\n",
              "      <td>24.153648</td>\n",
              "      <td>1005.862543</td>\n",
              "      <td>80.653475</td>\n",
              "    </tr>\n",
              "    <tr>\n",
              "      <th>std</th>\n",
              "      <td>415.475606</td>\n",
              "      <td>3.715930e+06</td>\n",
              "      <td>4.925571</td>\n",
              "      <td>8.401371</td>\n",
              "      <td>22.736845</td>\n",
              "    </tr>\n",
              "    <tr>\n",
              "      <th>min</th>\n",
              "      <td>0.000000</td>\n",
              "      <td>1.456762e+09</td>\n",
              "      <td>14.800000</td>\n",
              "      <td>994.000000</td>\n",
              "      <td>40.000000</td>\n",
              "    </tr>\n",
              "    <tr>\n",
              "      <th>25%</th>\n",
              "      <td>359.250000</td>\n",
              "      <td>1.456805e+09</td>\n",
              "      <td>20.100000</td>\n",
              "      <td>997.300000</td>\n",
              "      <td>56.650000</td>\n",
              "    </tr>\n",
              "    <tr>\n",
              "      <th>50%</th>\n",
              "      <td>719.000000</td>\n",
              "      <td>1.460520e+09</td>\n",
              "      <td>26.000000</td>\n",
              "      <td>1010.500000</td>\n",
              "      <td>92.300000</td>\n",
              "    </tr>\n",
              "    <tr>\n",
              "      <th>75%</th>\n",
              "      <td>1078.750000</td>\n",
              "      <td>1.464235e+09</td>\n",
              "      <td>28.275000</td>\n",
              "      <td>1013.700000</td>\n",
              "      <td>100.000000</td>\n",
              "    </tr>\n",
              "    <tr>\n",
              "      <th>max</th>\n",
              "      <td>1438.000000</td>\n",
              "      <td>1.464278e+09</td>\n",
              "      <td>31.400000</td>\n",
              "      <td>1016.700000</td>\n",
              "      <td>100.000000</td>\n",
              "    </tr>\n",
              "  </tbody>\n",
              "</table>\n",
              "</div>\n",
              "    <div class=\"colab-df-buttons\">\n",
              "\n",
              "  <div class=\"colab-df-container\">\n",
              "    <button class=\"colab-df-convert\" onclick=\"convertToInteractive('df-4a2a4c66-a360-49ad-b4d9-aacf13a0d5d8')\"\n",
              "            title=\"Convert this dataframe to an interactive table.\"\n",
              "            style=\"display:none;\">\n",
              "\n",
              "  <svg xmlns=\"http://www.w3.org/2000/svg\" height=\"24px\" viewBox=\"0 -960 960 960\">\n",
              "    <path d=\"M120-120v-720h720v720H120Zm60-500h600v-160H180v160Zm220 220h160v-160H400v160Zm0 220h160v-160H400v160ZM180-400h160v-160H180v160Zm440 0h160v-160H620v160ZM180-180h160v-160H180v160Zm440 0h160v-160H620v160Z\"/>\n",
              "  </svg>\n",
              "    </button>\n",
              "\n",
              "  <style>\n",
              "    .colab-df-container {\n",
              "      display:flex;\n",
              "      gap: 12px;\n",
              "    }\n",
              "\n",
              "    .colab-df-convert {\n",
              "      background-color: #E8F0FE;\n",
              "      border: none;\n",
              "      border-radius: 50%;\n",
              "      cursor: pointer;\n",
              "      display: none;\n",
              "      fill: #1967D2;\n",
              "      height: 32px;\n",
              "      padding: 0 0 0 0;\n",
              "      width: 32px;\n",
              "    }\n",
              "\n",
              "    .colab-df-convert:hover {\n",
              "      background-color: #E2EBFA;\n",
              "      box-shadow: 0px 1px 2px rgba(60, 64, 67, 0.3), 0px 1px 3px 1px rgba(60, 64, 67, 0.15);\n",
              "      fill: #174EA6;\n",
              "    }\n",
              "\n",
              "    .colab-df-buttons div {\n",
              "      margin-bottom: 4px;\n",
              "    }\n",
              "\n",
              "    [theme=dark] .colab-df-convert {\n",
              "      background-color: #3B4455;\n",
              "      fill: #D2E3FC;\n",
              "    }\n",
              "\n",
              "    [theme=dark] .colab-df-convert:hover {\n",
              "      background-color: #434B5C;\n",
              "      box-shadow: 0px 1px 3px 1px rgba(0, 0, 0, 0.15);\n",
              "      filter: drop-shadow(0px 1px 2px rgba(0, 0, 0, 0.3));\n",
              "      fill: #FFFFFF;\n",
              "    }\n",
              "  </style>\n",
              "\n",
              "    <script>\n",
              "      const buttonEl =\n",
              "        document.querySelector('#df-4a2a4c66-a360-49ad-b4d9-aacf13a0d5d8 button.colab-df-convert');\n",
              "      buttonEl.style.display =\n",
              "        google.colab.kernel.accessAllowed ? 'block' : 'none';\n",
              "\n",
              "      async function convertToInteractive(key) {\n",
              "        const element = document.querySelector('#df-4a2a4c66-a360-49ad-b4d9-aacf13a0d5d8');\n",
              "        const dataTable =\n",
              "          await google.colab.kernel.invokeFunction('convertToInteractive',\n",
              "                                                    [key], {});\n",
              "        if (!dataTable) return;\n",
              "\n",
              "        const docLinkHtml = 'Like what you see? Visit the ' +\n",
              "          '<a target=\"_blank\" href=https://colab.research.google.com/notebooks/data_table.ipynb>data table notebook</a>'\n",
              "          + ' to learn more about interactive tables.';\n",
              "        element.innerHTML = '';\n",
              "        dataTable['output_type'] = 'display_data';\n",
              "        await google.colab.output.renderOutput(dataTable, element);\n",
              "        const docLink = document.createElement('div');\n",
              "        docLink.innerHTML = docLinkHtml;\n",
              "        element.appendChild(docLink);\n",
              "      }\n",
              "    </script>\n",
              "  </div>\n",
              "\n",
              "\n",
              "<div id=\"df-dfbd021c-4786-4551-8179-c0f62d2cae50\">\n",
              "  <button class=\"colab-df-quickchart\" onclick=\"quickchart('df-dfbd021c-4786-4551-8179-c0f62d2cae50')\"\n",
              "            title=\"Suggest charts\"\n",
              "            style=\"display:none;\">\n",
              "\n",
              "<svg xmlns=\"http://www.w3.org/2000/svg\" height=\"24px\"viewBox=\"0 0 24 24\"\n",
              "     width=\"24px\">\n",
              "    <g>\n",
              "        <path d=\"M19 3H5c-1.1 0-2 .9-2 2v14c0 1.1.9 2 2 2h14c1.1 0 2-.9 2-2V5c0-1.1-.9-2-2-2zM9 17H7v-7h2v7zm4 0h-2V7h2v10zm4 0h-2v-4h2v4z\"/>\n",
              "    </g>\n",
              "</svg>\n",
              "  </button>\n",
              "\n",
              "<style>\n",
              "  .colab-df-quickchart {\n",
              "      --bg-color: #E8F0FE;\n",
              "      --fill-color: #1967D2;\n",
              "      --hover-bg-color: #E2EBFA;\n",
              "      --hover-fill-color: #174EA6;\n",
              "      --disabled-fill-color: #AAA;\n",
              "      --disabled-bg-color: #DDD;\n",
              "  }\n",
              "\n",
              "  [theme=dark] .colab-df-quickchart {\n",
              "      --bg-color: #3B4455;\n",
              "      --fill-color: #D2E3FC;\n",
              "      --hover-bg-color: #434B5C;\n",
              "      --hover-fill-color: #FFFFFF;\n",
              "      --disabled-bg-color: #3B4455;\n",
              "      --disabled-fill-color: #666;\n",
              "  }\n",
              "\n",
              "  .colab-df-quickchart {\n",
              "    background-color: var(--bg-color);\n",
              "    border: none;\n",
              "    border-radius: 50%;\n",
              "    cursor: pointer;\n",
              "    display: none;\n",
              "    fill: var(--fill-color);\n",
              "    height: 32px;\n",
              "    padding: 0;\n",
              "    width: 32px;\n",
              "  }\n",
              "\n",
              "  .colab-df-quickchart:hover {\n",
              "    background-color: var(--hover-bg-color);\n",
              "    box-shadow: 0 1px 2px rgba(60, 64, 67, 0.3), 0 1px 3px 1px rgba(60, 64, 67, 0.15);\n",
              "    fill: var(--button-hover-fill-color);\n",
              "  }\n",
              "\n",
              "  .colab-df-quickchart-complete:disabled,\n",
              "  .colab-df-quickchart-complete:disabled:hover {\n",
              "    background-color: var(--disabled-bg-color);\n",
              "    fill: var(--disabled-fill-color);\n",
              "    box-shadow: none;\n",
              "  }\n",
              "\n",
              "  .colab-df-spinner {\n",
              "    border: 2px solid var(--fill-color);\n",
              "    border-color: transparent;\n",
              "    border-bottom-color: var(--fill-color);\n",
              "    animation:\n",
              "      spin 1s steps(1) infinite;\n",
              "  }\n",
              "\n",
              "  @keyframes spin {\n",
              "    0% {\n",
              "      border-color: transparent;\n",
              "      border-bottom-color: var(--fill-color);\n",
              "      border-left-color: var(--fill-color);\n",
              "    }\n",
              "    20% {\n",
              "      border-color: transparent;\n",
              "      border-left-color: var(--fill-color);\n",
              "      border-top-color: var(--fill-color);\n",
              "    }\n",
              "    30% {\n",
              "      border-color: transparent;\n",
              "      border-left-color: var(--fill-color);\n",
              "      border-top-color: var(--fill-color);\n",
              "      border-right-color: var(--fill-color);\n",
              "    }\n",
              "    40% {\n",
              "      border-color: transparent;\n",
              "      border-right-color: var(--fill-color);\n",
              "      border-top-color: var(--fill-color);\n",
              "    }\n",
              "    60% {\n",
              "      border-color: transparent;\n",
              "      border-right-color: var(--fill-color);\n",
              "    }\n",
              "    80% {\n",
              "      border-color: transparent;\n",
              "      border-right-color: var(--fill-color);\n",
              "      border-bottom-color: var(--fill-color);\n",
              "    }\n",
              "    90% {\n",
              "      border-color: transparent;\n",
              "      border-bottom-color: var(--fill-color);\n",
              "    }\n",
              "  }\n",
              "</style>\n",
              "\n",
              "  <script>\n",
              "    async function quickchart(key) {\n",
              "      const quickchartButtonEl =\n",
              "        document.querySelector('#' + key + ' button');\n",
              "      quickchartButtonEl.disabled = true;  // To prevent multiple clicks.\n",
              "      quickchartButtonEl.classList.add('colab-df-spinner');\n",
              "      try {\n",
              "        const charts = await google.colab.kernel.invokeFunction(\n",
              "            'suggestCharts', [key], {});\n",
              "      } catch (error) {\n",
              "        console.error('Error during call to suggestCharts:', error);\n",
              "      }\n",
              "      quickchartButtonEl.classList.remove('colab-df-spinner');\n",
              "      quickchartButtonEl.classList.add('colab-df-quickchart-complete');\n",
              "    }\n",
              "    (() => {\n",
              "      let quickchartButtonEl =\n",
              "        document.querySelector('#df-dfbd021c-4786-4551-8179-c0f62d2cae50 button');\n",
              "      quickchartButtonEl.style.display =\n",
              "        google.colab.kernel.accessAllowed ? 'block' : 'none';\n",
              "    })();\n",
              "  </script>\n",
              "</div>\n",
              "    </div>\n",
              "  </div>\n"
            ]
          },
          "metadata": {},
          "execution_count": 481
        }
      ]
    },
    {
      "cell_type": "code",
      "source": [
        "data.isnull().sum()"
      ],
      "metadata": {
        "colab": {
          "base_uri": "https://localhost:8080/"
        },
        "id": "EmdE0N_6BmEO",
        "outputId": "9b3423ad-34ed-497a-8210-0d3eb8e4a9d4"
      },
      "execution_count": 482,
      "outputs": [
        {
          "output_type": "execute_result",
          "data": {
            "text/plain": [
              "index            0\n",
              "OS_Time_Stamp    0\n",
              "Temperature      0\n",
              "Pressure         0\n",
              "Humidity         0\n",
              "TimeStamp        0\n",
              "dtype: int64"
            ]
          },
          "metadata": {},
          "execution_count": 482
        }
      ]
    },
    {
      "cell_type": "markdown",
      "source": [
        "No missing values. Our dataset is clean."
      ],
      "metadata": {
        "id": "y4wJbGKiMMpw"
      }
    },
    {
      "cell_type": "markdown",
      "source": [
        "x is allocated with the predictor variable and y with the target variable"
      ],
      "metadata": {
        "id": "TnKHI7e0MWAe"
      }
    },
    {
      "cell_type": "code",
      "source": [
        "x = data[['Temperature']]\n",
        "y = data['Pressure']"
      ],
      "metadata": {
        "id": "SINHDeQRBzwM"
      },
      "execution_count": 483,
      "outputs": []
    },
    {
      "cell_type": "markdown",
      "source": [
        "Train-Test Split in the ratio -> 56:44"
      ],
      "metadata": {
        "id": "bXj0bUM3Md4e"
      }
    },
    {
      "cell_type": "code",
      "source": [
        "from sklearn.model_selection import train_test_split\n",
        "x_train,x_test,y_train,y_test=train_test_split(x,y,test_size=0.44,random_state=42)"
      ],
      "metadata": {
        "id": "DYuqCO9CBo4Q"
      },
      "execution_count": 484,
      "outputs": []
    },
    {
      "cell_type": "markdown",
      "source": [
        "Polynomial function of degree 2 is implemented"
      ],
      "metadata": {
        "id": "bUx25LCZMpLR"
      }
    },
    {
      "cell_type": "code",
      "source": [
        "from sklearn.preprocessing import PolynomialFeatures\n",
        "p=PolynomialFeatures(degree=2,include_bias=True)\n",
        "x_train_p=p.fit_transform(x_train)\n",
        "x_test_p=p.transform(x_test)"
      ],
      "metadata": {
        "id": "RbMRQULlCCNN"
      },
      "execution_count": 485,
      "outputs": []
    },
    {
      "cell_type": "code",
      "source": [
        "x_train_p"
      ],
      "metadata": {
        "colab": {
          "base_uri": "https://localhost:8080/"
        },
        "id": "3m8sToA0CdMY",
        "outputId": "de72abba-10e5-4cb7-f138-822630f61560"
      },
      "execution_count": 486,
      "outputs": [
        {
          "output_type": "execute_result",
          "data": {
            "text/plain": [
              "array([[  1.  ,  21.7 , 470.89],\n",
              "       [  1.  ,  24.3 , 590.49],\n",
              "       [  1.  ,  28.9 , 835.21],\n",
              "       ...,\n",
              "       [  1.  ,  23.8 , 566.44],\n",
              "       [  1.  ,  21.1 , 445.21],\n",
              "       [  1.  ,  24.5 , 600.25]])"
            ]
          },
          "metadata": {},
          "execution_count": 486
        }
      ]
    },
    {
      "cell_type": "code",
      "source": [
        "x_test_p"
      ],
      "metadata": {
        "colab": {
          "base_uri": "https://localhost:8080/"
        },
        "id": "u-LXVTOCC0hv",
        "outputId": "588fc73f-417c-47e6-a45a-baa6723345e5"
      },
      "execution_count": 487,
      "outputs": [
        {
          "output_type": "execute_result",
          "data": {
            "text/plain": [
              "array([[  1.  ,  15.8 , 249.64],\n",
              "       [  1.  ,  19.  , 361.  ],\n",
              "       [  1.  ,  30.9 , 954.81],\n",
              "       ...,\n",
              "       [  1.  ,  27.  , 729.  ],\n",
              "       [  1.  ,  29.4 , 864.36],\n",
              "       [  1.  ,  18.7 , 349.69]])"
            ]
          },
          "metadata": {},
          "execution_count": 487
        }
      ]
    },
    {
      "cell_type": "markdown",
      "source": [
        "Model with degree 2 fitted. Intercept and Coefficients are printed."
      ],
      "metadata": {
        "id": "RcKA24llMz8M"
      }
    },
    {
      "cell_type": "code",
      "source": [
        "from sklearn.linear_model import LinearRegression\n",
        "reg_Model12=LinearRegression()\n",
        "reg_Model12.fit(x_train_p,y_train)\n",
        "print(reg_Model12.coef_)\n",
        "print(reg_Model12.intercept_)"
      ],
      "metadata": {
        "colab": {
          "base_uri": "https://localhost:8080/"
        },
        "id": "qX0hM9BbC17K",
        "outputId": "4d645801-d912-4860-8551-3a52d9004f09"
      },
      "execution_count": 488,
      "outputs": [
        {
          "output_type": "stream",
          "name": "stdout",
          "text": [
            "[ 0.          4.01661951 -0.11528499]\n",
            "978.8557742385207\n"
          ]
        }
      ]
    },
    {
      "cell_type": "markdown",
      "source": [
        "Visualization of the best fit Polynomial Curve (degree 2)"
      ],
      "metadata": {
        "id": "-XXC22aJM-Es"
      }
    },
    {
      "cell_type": "code",
      "source": [
        "plt.scatter(x_train,reg_Model12.predict(x_train_p))\n",
        "plt.scatter(x_train,y_train)\n",
        "plt.title(\"Visualization of the best fit Polynomial Curve (degree 2) \")\n",
        "plt.show()"
      ],
      "metadata": {
        "colab": {
          "base_uri": "https://localhost:8080/",
          "height": 452
        },
        "id": "8ri3qhdzDP6Y",
        "outputId": "319441dc-b949-43eb-e1bf-47a84c0b86c3"
      },
      "execution_count": 489,
      "outputs": [
        {
          "output_type": "display_data",
          "data": {
            "text/plain": [
              "<Figure size 640x480 with 1 Axes>"
            ],
            "image/png": "[encoded data removed]"
          },
          "metadata": {}
        }
      ]
    },
    {
      "cell_type": "markdown",
      "source": [
        "R2 Score of Model12"
      ],
      "metadata": {
        "id": "BTFIsDYINVps"
      }
    },
    {
      "cell_type": "code",
      "source": [
        "from sklearn.metrics import r2_score\n",
        "y_predict12=reg_Model12.predict(x_test_p)\n",
        "score12=r2_score(y_test,y_predict12)\n",
        "score12"
      ],
      "metadata": {
        "colab": {
          "base_uri": "https://localhost:8080/"
        },
        "id": "33tdmIkgD2B2",
        "outputId": "1636ae57-e9c3-47f3-cc6f-a263b9037309"
      },
      "execution_count": 490,
      "outputs": [
        {
          "output_type": "execute_result",
          "data": {
            "text/plain": [
              "0.628054612377033"
            ]
          },
          "metadata": {},
          "execution_count": 490
        }
      ]
    },
    {
      "cell_type": "markdown",
      "source": [
        "MSE of Model12"
      ],
      "metadata": {
        "id": "Pdwn9XINNbOo"
      }
    },
    {
      "cell_type": "code",
      "source": [
        "mse12 = np.mean(np.square(np.array(y_predict12) - np.array(y_test)))\n",
        "mse12"
      ],
      "metadata": {
        "colab": {
          "base_uri": "https://localhost:8080/"
        },
        "id": "idX6FCA0KnL1",
        "outputId": "7253da97-9cf1-4aef-8638-f5c0d75427e1"
      },
      "execution_count": 491,
      "outputs": [
        {
          "output_type": "execute_result",
          "data": {
            "text/plain": [
              "26.209541364676713"
            ]
          },
          "metadata": {},
          "execution_count": 491
        }
      ]
    },
    {
      "cell_type": "markdown",
      "source": [
        "MAE of Model12"
      ],
      "metadata": {
        "id": "oVKn39SXNddd"
      }
    },
    {
      "cell_type": "code",
      "source": [
        "mae12 = np.mean(np.abs(np.array(y_predict12) - np.array(y_test)))\n",
        "mae12"
      ],
      "metadata": {
        "colab": {
          "base_uri": "https://localhost:8080/"
        },
        "id": "Ix9q1uJsKTWL",
        "outputId": "02e5fe8d-3646-4a4b-a6b7-1e2e683e4c4d"
      },
      "execution_count": 492,
      "outputs": [
        {
          "output_type": "execute_result",
          "data": {
            "text/plain": [
              "3.6895136221702556"
            ]
          },
          "metadata": {},
          "execution_count": 492
        }
      ]
    },
    {
      "cell_type": "markdown",
      "source": [
        "Polynomial function of degree  is 3 implemented"
      ],
      "metadata": {
        "id": "1SKG9m9oN3Jw"
      }
    },
    {
      "cell_type": "code",
      "source": [
        "p=PolynomialFeatures(degree=3,include_bias=True)\n",
        "x_train_p=p.fit_transform(x_train)\n",
        "x_test_p=p.transform(x_test)"
      ],
      "metadata": {
        "id": "vd0XRRV9E9br"
      },
      "execution_count": 493,
      "outputs": []
    },
    {
      "cell_type": "code",
      "source": [
        "x_train_p"
      ],
      "metadata": {
        "colab": {
          "base_uri": "https://localhost:8080/"
        },
        "id": "YNbHrnBZE_46",
        "outputId": "28652e93-ef94-421b-eaa6-8f91cc771165"
      },
      "execution_count": 494,
      "outputs": [
        {
          "output_type": "execute_result",
          "data": {
            "text/plain": [
              "array([[1.0000000e+00, 2.1700000e+01, 4.7089000e+02, 1.0218313e+04],\n",
              "       [1.0000000e+00, 2.4300000e+01, 5.9049000e+02, 1.4348907e+04],\n",
              "       [1.0000000e+00, 2.8900000e+01, 8.3521000e+02, 2.4137569e+04],\n",
              "       ...,\n",
              "       [1.0000000e+00, 2.3800000e+01, 5.6644000e+02, 1.3481272e+04],\n",
              "       [1.0000000e+00, 2.1100000e+01, 4.4521000e+02, 9.3939310e+03],\n",
              "       [1.0000000e+00, 2.4500000e+01, 6.0025000e+02, 1.4706125e+04]])"
            ]
          },
          "metadata": {},
          "execution_count": 494
        }
      ]
    },
    {
      "cell_type": "code",
      "source": [
        "x_test_p"
      ],
      "metadata": {
        "colab": {
          "base_uri": "https://localhost:8080/"
        },
        "id": "vs-5jZLxFBlO",
        "outputId": "41aaa264-ca35-4f2c-e0e9-899c75d19ce1"
      },
      "execution_count": 495,
      "outputs": [
        {
          "output_type": "execute_result",
          "data": {
            "text/plain": [
              "array([[1.0000000e+00, 1.5800000e+01, 2.4964000e+02, 3.9443120e+03],\n",
              "       [1.0000000e+00, 1.9000000e+01, 3.6100000e+02, 6.8590000e+03],\n",
              "       [1.0000000e+00, 3.0900000e+01, 9.5481000e+02, 2.9503629e+04],\n",
              "       ...,\n",
              "       [1.0000000e+00, 2.7000000e+01, 7.2900000e+02, 1.9683000e+04],\n",
              "       [1.0000000e+00, 2.9400000e+01, 8.6436000e+02, 2.5412184e+04],\n",
              "       [1.0000000e+00, 1.8700000e+01, 3.4969000e+02, 6.5392030e+03]])"
            ]
          },
          "metadata": {},
          "execution_count": 495
        }
      ]
    },
    {
      "cell_type": "markdown",
      "source": [
        "Model with degree 3 fitted. Intercept and Coefficients are printed."
      ],
      "metadata": {
        "id": "lUJ8xEqbN9Ft"
      }
    },
    {
      "cell_type": "code",
      "source": [
        "reg_Model13=LinearRegression()\n",
        "reg_Model13.fit(x_train_p,y_train)\n",
        "print(reg_Model13.coef_)\n",
        "print(reg_Model13.intercept_)"
      ],
      "metadata": {
        "colab": {
          "base_uri": "https://localhost:8080/"
        },
        "id": "M8RJNqmTEo0E",
        "outputId": "e74907fa-dfc7-45c5-acc2-e18922507bce"
      },
      "execution_count": 496,
      "outputs": [
        {
          "output_type": "stream",
          "name": "stdout",
          "text": [
            "[ 0.00000000e+00  2.73839570e+01 -1.15691366e+00  1.50618609e-02]\n",
            "809.6546968786372\n"
          ]
        }
      ]
    },
    {
      "cell_type": "markdown",
      "source": [
        "Visualization of the best fit Polynomial Curve (degree 3)"
      ],
      "metadata": {
        "id": "mKmCqQkcOBhJ"
      }
    },
    {
      "cell_type": "code",
      "source": [
        "plt.scatter(x_train,reg_Model13.predict(x_train_p))\n",
        "plt.scatter(x_train,y_train)\n",
        "plt.title(\"Visualization of the best fit Polynomial Curve (degree 3)\")\n",
        "plt.show()"
      ],
      "metadata": {
        "colab": {
          "base_uri": "https://localhost:8080/",
          "height": 452
        },
        "id": "XK4SxdI3FR-0",
        "outputId": "729dae16-4319-4007-c1da-4ecf553b0339"
      },
      "execution_count": 497,
      "outputs": [
        {
          "output_type": "display_data",
          "data": {
            "text/plain": [
              "<Figure size 640x480 with 1 Axes>"
            ],
            "image/png": "[encoded data removed]"
          },
          "metadata": {}
        }
      ]
    },
    {
      "cell_type": "markdown",
      "source": [
        "R2 Score of Model13"
      ],
      "metadata": {
        "id": "qHMgY7DiOdjx"
      }
    },
    {
      "cell_type": "code",
      "source": [
        "y_predict13=reg_Model13.predict(x_test_p)\n",
        "score13=r2_score(y_test,y_predict13)\n",
        "score13"
      ],
      "metadata": {
        "colab": {
          "base_uri": "https://localhost:8080/"
        },
        "id": "Brds4K5oFWhS",
        "outputId": "9afc4bcb-3418-4d46-8237-37024c805067"
      },
      "execution_count": 498,
      "outputs": [
        {
          "output_type": "execute_result",
          "data": {
            "text/plain": [
              "0.6451846178398142"
            ]
          },
          "metadata": {},
          "execution_count": 498
        }
      ]
    },
    {
      "cell_type": "markdown",
      "source": [
        "MSE of Model13"
      ],
      "metadata": {
        "id": "mMidLPQWOhn9"
      }
    },
    {
      "cell_type": "code",
      "source": [
        "mse13 = np.mean(np.square(np.array(y_predict13) - np.array(y_test)))\n",
        "mse13"
      ],
      "metadata": {
        "colab": {
          "base_uri": "https://localhost:8080/"
        },
        "id": "hl0YlMBhFbFx",
        "outputId": "945d8f9c-49e9-42c0-cc75-d33fb3d70653"
      },
      "execution_count": 499,
      "outputs": [
        {
          "output_type": "execute_result",
          "data": {
            "text/plain": [
              "25.002456664357723"
            ]
          },
          "metadata": {},
          "execution_count": 499
        }
      ]
    },
    {
      "cell_type": "markdown",
      "source": [
        "MAE of Model13"
      ],
      "metadata": {
        "id": "ypTnRP67Okht"
      }
    },
    {
      "cell_type": "code",
      "source": [
        "mae13 = np.mean(np.abs(np.array(y_predict13) - np.array(y_test)))\n",
        "mae13"
      ],
      "metadata": {
        "colab": {
          "base_uri": "https://localhost:8080/"
        },
        "id": "mxz9fbZtLLKJ",
        "outputId": "1fadb080-f818-4f03-8737-3ab1592c89ed"
      },
      "execution_count": 500,
      "outputs": [
        {
          "output_type": "execute_result",
          "data": {
            "text/plain": [
              "3.7451689762709193"
            ]
          },
          "metadata": {},
          "execution_count": 500
        }
      ]
    },
    {
      "cell_type": "markdown",
      "source": [
        "Train-Test Split in the ratio -> 70:30"
      ],
      "metadata": {
        "id": "-Soqse8FOz4O"
      }
    },
    {
      "cell_type": "code",
      "source": [
        "x_train,x_test,y_train,y_test=train_test_split(x,y,test_size=0.3,random_state=42)"
      ],
      "metadata": {
        "id": "Pc3VjT-LFkkF"
      },
      "execution_count": 501,
      "outputs": []
    },
    {
      "cell_type": "markdown",
      "source": [
        "Polynomial function of degree is 4 implemented"
      ],
      "metadata": {
        "id": "-39PlcoDO_N8"
      }
    },
    {
      "cell_type": "code",
      "source": [
        "p=PolynomialFeatures(degree=4,include_bias=True)\n",
        "x_train_p=p.fit_transform(x_train)\n",
        "x_test_p=p.transform(x_test)"
      ],
      "metadata": {
        "id": "_K7ZCfHVGjAG"
      },
      "execution_count": 502,
      "outputs": []
    },
    {
      "cell_type": "code",
      "source": [
        "x_train_p"
      ],
      "metadata": {
        "colab": {
          "base_uri": "https://localhost:8080/"
        },
        "id": "c9y41VIQGphf",
        "outputId": "df0377af-3341-4126-e931-910676d4bbd5"
      },
      "execution_count": 503,
      "outputs": [
        {
          "output_type": "execute_result",
          "data": {
            "text/plain": [
              "array([[1.00000000e+00, 2.94000000e+01, 8.64360000e+02, 2.54121840e+04,\n",
              "        7.47118210e+05],\n",
              "       [1.00000000e+00, 2.72000000e+01, 7.39840000e+02, 2.01236480e+04,\n",
              "        5.47363226e+05],\n",
              "       [1.00000000e+00, 1.51000000e+01, 2.28010000e+02, 3.44295100e+03,\n",
              "        5.19885601e+04],\n",
              "       ...,\n",
              "       [1.00000000e+00, 2.38000000e+01, 5.66440000e+02, 1.34812720e+04,\n",
              "        3.20854274e+05],\n",
              "       [1.00000000e+00, 2.11000000e+01, 4.45210000e+02, 9.39393100e+03,\n",
              "        1.98211944e+05],\n",
              "       [1.00000000e+00, 2.45000000e+01, 6.00250000e+02, 1.47061250e+04,\n",
              "        3.60300062e+05]])"
            ]
          },
          "metadata": {},
          "execution_count": 503
        }
      ]
    },
    {
      "cell_type": "code",
      "source": [
        "x_test_p"
      ],
      "metadata": {
        "colab": {
          "base_uri": "https://localhost:8080/"
        },
        "id": "kQ-3208FGqAN",
        "outputId": "f1de02a9-7316-4bea-a4b7-d9b074abf343"
      },
      "execution_count": 504,
      "outputs": [
        {
          "output_type": "execute_result",
          "data": {
            "text/plain": [
              "array([[1.00000000e+00, 1.58000000e+01, 2.49640000e+02, 3.94431200e+03,\n",
              "        6.23201296e+04],\n",
              "       [1.00000000e+00, 1.90000000e+01, 3.61000000e+02, 6.85900000e+03,\n",
              "        1.30321000e+05],\n",
              "       [1.00000000e+00, 3.09000000e+01, 9.54810000e+02, 2.95036290e+04,\n",
              "        9.11662136e+05],\n",
              "       ...,\n",
              "       [1.00000000e+00, 1.52000000e+01, 2.31040000e+02, 3.51180800e+03,\n",
              "        5.33794816e+04],\n",
              "       [1.00000000e+00, 2.96000000e+01, 8.76160000e+02, 2.59343360e+04,\n",
              "        7.67656346e+05],\n",
              "       [1.00000000e+00, 1.69000000e+01, 2.85610000e+02, 4.82680900e+03,\n",
              "        8.15730721e+04]])"
            ]
          },
          "metadata": {},
          "execution_count": 504
        }
      ]
    },
    {
      "cell_type": "markdown",
      "source": [
        "Model with degree 4 fitted. Intercept and Coefficients are printed."
      ],
      "metadata": {
        "id": "xGbBvUuIPF--"
      }
    },
    {
      "cell_type": "code",
      "source": [
        "reg_Model24=LinearRegression()\n",
        "reg_Model24.fit(x_train_p,y_train)\n",
        "print(reg_Model24.coef_)\n",
        "print(reg_Model24.intercept_)"
      ],
      "metadata": {
        "colab": {
          "base_uri": "https://localhost:8080/"
        },
        "id": "hXRFEOKOGssZ",
        "outputId": "7b2c0548-3cb7-4aa6-8360-567d0abcc7ae"
      },
      "execution_count": 505,
      "outputs": [
        {
          "output_type": "stream",
          "name": "stdout",
          "text": [
            "[ 0.00000000e+00 -1.89386522e+02  1.34826626e+01 -4.15524150e-01\n",
            "  4.66159219e-03]\n",
            "1987.3445849081477\n"
          ]
        }
      ]
    },
    {
      "cell_type": "markdown",
      "source": [
        "Visualization of the best fit Polynomial Curve (degree 4)"
      ],
      "metadata": {
        "id": "sFMgKraGPKm4"
      }
    },
    {
      "cell_type": "code",
      "source": [
        "plt.scatter(x_train,reg_Model24.predict(x_train_p))\n",
        "plt.scatter(x_train,y_train)\n",
        "plt.title(\"Visualization of the best fit Polynomial Curve (degree 4)\")\n",
        "plt.show()"
      ],
      "metadata": {
        "colab": {
          "base_uri": "https://localhost:8080/",
          "height": 452
        },
        "id": "SdxGsCl6G66E",
        "outputId": "57cff9c2-33d9-4572-e6ef-13a0a030344b"
      },
      "execution_count": 506,
      "outputs": [
        {
          "output_type": "display_data",
          "data": {
            "text/plain": [
              "<Figure size 640x480 with 1 Axes>"
            ],
            "image/png": "[encoded data removed]"
          },
          "metadata": {}
        }
      ]
    },
    {
      "cell_type": "markdown",
      "source": [
        "R2 Score of Model24"
      ],
      "metadata": {
        "id": "pzzH81bgRTML"
      }
    },
    {
      "cell_type": "code",
      "source": [
        "y_predict24=reg_Model24.predict(x_test_p)\n",
        "score24=r2_score(y_test,y_predict24)\n",
        "score24"
      ],
      "metadata": {
        "colab": {
          "base_uri": "https://localhost:8080/"
        },
        "id": "_UVahkcUHBvN",
        "outputId": "3d376953-c16c-4b3a-864d-46deb5cf51fe"
      },
      "execution_count": 507,
      "outputs": [
        {
          "output_type": "execute_result",
          "data": {
            "text/plain": [
              "0.6941666046410397"
            ]
          },
          "metadata": {},
          "execution_count": 507
        }
      ]
    },
    {
      "cell_type": "markdown",
      "source": [
        "MSE of Model24"
      ],
      "metadata": {
        "id": "TO7a8-xuRaAs"
      }
    },
    {
      "cell_type": "code",
      "source": [
        "mse24 = np.mean(np.square(np.array(y_predict24) - np.array(y_test)))\n",
        "mse24"
      ],
      "metadata": {
        "colab": {
          "base_uri": "https://localhost:8080/"
        },
        "id": "exRVDs-dHFfY",
        "outputId": "52987184-03bc-4b44-e678-0c278cb8e607"
      },
      "execution_count": 508,
      "outputs": [
        {
          "output_type": "execute_result",
          "data": {
            "text/plain": [
              "21.679295208217564"
            ]
          },
          "metadata": {},
          "execution_count": 508
        }
      ]
    },
    {
      "cell_type": "markdown",
      "source": [
        "MAE of Model24"
      ],
      "metadata": {
        "id": "IUFafHjURh82"
      }
    },
    {
      "cell_type": "code",
      "source": [
        "mae24 = np.mean(np.abs(np.array(y_predict24) - np.array(y_test)))\n",
        "mae24"
      ],
      "metadata": {
        "colab": {
          "base_uri": "https://localhost:8080/"
        },
        "id": "9mvn-c65LULV",
        "outputId": "347bc7d8-1b52-4e00-f7d2-e375322bfed8"
      },
      "execution_count": 509,
      "outputs": [
        {
          "output_type": "execute_result",
          "data": {
            "text/plain": [
              "3.1852525641917366"
            ]
          },
          "metadata": {},
          "execution_count": 509
        }
      ]
    },
    {
      "cell_type": "markdown",
      "source": [
        "Polynomial function of degree is 5 implemented"
      ],
      "metadata": {
        "id": "5KyrGbMmRlS1"
      }
    },
    {
      "cell_type": "code",
      "source": [
        "p=PolynomialFeatures(degree=5,include_bias=True)\n",
        "x_train_p=p.fit_transform(x_train)\n",
        "x_test_p=p.transform(x_test)"
      ],
      "metadata": {
        "id": "7wdKeWUEHRLg"
      },
      "execution_count": 510,
      "outputs": []
    },
    {
      "cell_type": "code",
      "source": [
        "x_train_p"
      ],
      "metadata": {
        "colab": {
          "base_uri": "https://localhost:8080/"
        },
        "id": "icEcNgC7HUex",
        "outputId": "452954c6-ecb4-4836-ca84-022c267e0348"
      },
      "execution_count": 511,
      "outputs": [
        {
          "output_type": "execute_result",
          "data": {
            "text/plain": [
              "array([[1.00000000e+00, 2.94000000e+01, 8.64360000e+02, 2.54121840e+04,\n",
              "        7.47118210e+05, 2.19652754e+07],\n",
              "       [1.00000000e+00, 2.72000000e+01, 7.39840000e+02, 2.01236480e+04,\n",
              "        5.47363226e+05, 1.48882797e+07],\n",
              "       [1.00000000e+00, 1.51000000e+01, 2.28010000e+02, 3.44295100e+03,\n",
              "        5.19885601e+04, 7.85027258e+05],\n",
              "       ...,\n",
              "       [1.00000000e+00, 2.38000000e+01, 5.66440000e+02, 1.34812720e+04,\n",
              "        3.20854274e+05, 7.63633171e+06],\n",
              "       [1.00000000e+00, 2.11000000e+01, 4.45210000e+02, 9.39393100e+03,\n",
              "        1.98211944e+05, 4.18227202e+06],\n",
              "       [1.00000000e+00, 2.45000000e+01, 6.00250000e+02, 1.47061250e+04,\n",
              "        3.60300062e+05, 8.82735153e+06]])"
            ]
          },
          "metadata": {},
          "execution_count": 511
        }
      ]
    },
    {
      "cell_type": "code",
      "source": [
        "x_test_p"
      ],
      "metadata": {
        "colab": {
          "base_uri": "https://localhost:8080/"
        },
        "id": "t274Vy3SHXIT",
        "outputId": "ef58fd44-177f-465f-c645-9c7a5814a2c9"
      },
      "execution_count": 512,
      "outputs": [
        {
          "output_type": "execute_result",
          "data": {
            "text/plain": [
              "array([[1.00000000e+00, 1.58000000e+01, 2.49640000e+02, 3.94431200e+03,\n",
              "        6.23201296e+04, 9.84658048e+05],\n",
              "       [1.00000000e+00, 1.90000000e+01, 3.61000000e+02, 6.85900000e+03,\n",
              "        1.30321000e+05, 2.47609900e+06],\n",
              "       [1.00000000e+00, 3.09000000e+01, 9.54810000e+02, 2.95036290e+04,\n",
              "        9.11662136e+05, 2.81703600e+07],\n",
              "       ...,\n",
              "       [1.00000000e+00, 1.52000000e+01, 2.31040000e+02, 3.51180800e+03,\n",
              "        5.33794816e+04, 8.11368120e+05],\n",
              "       [1.00000000e+00, 2.96000000e+01, 8.76160000e+02, 2.59343360e+04,\n",
              "        7.67656346e+05, 2.27226278e+07],\n",
              "       [1.00000000e+00, 1.69000000e+01, 2.85610000e+02, 4.82680900e+03,\n",
              "        8.15730721e+04, 1.37858492e+06]])"
            ]
          },
          "metadata": {},
          "execution_count": 512
        }
      ]
    },
    {
      "cell_type": "markdown",
      "source": [
        "Model with degree 5 fitted. Intercept and Coefficients are printed."
      ],
      "metadata": {
        "id": "gmexTKiYSGAI"
      }
    },
    {
      "cell_type": "code",
      "source": [
        "reg_Model25=LinearRegression()\n",
        "reg_Model25.fit(x_train_p,y_train)\n",
        "print(reg_Model25.coef_)\n",
        "print(reg_Model25.intercept_)"
      ],
      "metadata": {
        "colab": {
          "base_uri": "https://localhost:8080/"
        },
        "id": "yY0vhUutHZNw",
        "outputId": "f1a5e291-ec40-4ee8-8966-40a934c1569f"
      },
      "execution_count": 513,
      "outputs": [
        {
          "output_type": "stream",
          "name": "stdout",
          "text": [
            "[ 0.00000000e+00 -1.16543025e+03  1.02342764e+02 -4.39538479e+00\n",
            "  9.24123857e-02 -7.62608087e-04]\n",
            "6204.751845301771\n"
          ]
        }
      ]
    },
    {
      "cell_type": "markdown",
      "source": [
        "Visualization of the best fit Polynomial Curve (degree 5)"
      ],
      "metadata": {
        "id": "3cm_-i1QSMXm"
      }
    },
    {
      "cell_type": "code",
      "source": [
        "plt.scatter(x_train,reg_Model25.predict(x_train_p))\n",
        "plt.scatter(x_train,y_train)\n",
        "plt.title(\"Visualization of the best fit Polynomial Curve (degree 5)\")\n",
        "plt.show()"
      ],
      "metadata": {
        "colab": {
          "base_uri": "https://localhost:8080/",
          "height": 452
        },
        "id": "-TmmakHDHg70",
        "outputId": "19dfe9ca-e3eb-41ad-8e26-dabac31288da"
      },
      "execution_count": 514,
      "outputs": [
        {
          "output_type": "display_data",
          "data": {
            "text/plain": [
              "<Figure size 640x480 with 1 Axes>"
            ],
            "image/png": "[encoded data removed]"
          },
          "metadata": {}
        }
      ]
    },
    {
      "cell_type": "markdown",
      "source": [
        "R2 Score of Model25"
      ],
      "metadata": {
        "id": "noatBbQ4SbT1"
      }
    },
    {
      "cell_type": "code",
      "source": [
        "y_predict25=reg_Model25.predict(x_test_p)\n",
        "score25=r2_score(y_test,y_predict25)\n",
        "score25"
      ],
      "metadata": {
        "colab": {
          "base_uri": "https://localhost:8080/"
        },
        "id": "1vCDaALyHlBc",
        "outputId": "600e4a06-cbe0-48da-cbf7-d6fa4805e270"
      },
      "execution_count": 515,
      "outputs": [
        {
          "output_type": "execute_result",
          "data": {
            "text/plain": [
              "0.7042085681914689"
            ]
          },
          "metadata": {},
          "execution_count": 515
        }
      ]
    },
    {
      "cell_type": "markdown",
      "source": [
        "MSE of Model25"
      ],
      "metadata": {
        "id": "zmLs1JvwSjeG"
      }
    },
    {
      "cell_type": "code",
      "source": [
        "mse25 = np.mean(np.square(np.array(y_predict25) - np.array(y_test)))\n",
        "mse25"
      ],
      "metadata": {
        "colab": {
          "base_uri": "https://localhost:8080/"
        },
        "id": "tWHULYLyHqNC",
        "outputId": "76a73d60-c3fd-4a83-a779-dc69a8ec6a30"
      },
      "execution_count": 516,
      "outputs": [
        {
          "output_type": "execute_result",
          "data": {
            "text/plain": [
              "20.96746093640956"
            ]
          },
          "metadata": {},
          "execution_count": 516
        }
      ]
    },
    {
      "cell_type": "markdown",
      "source": [
        "MAE of Model25"
      ],
      "metadata": {
        "id": "4_ky-DsnSnZ2"
      }
    },
    {
      "cell_type": "code",
      "source": [
        "mae25 = np.mean(np.abs(np.array(y_predict25) - np.array(y_test)))\n",
        "mae25"
      ],
      "metadata": {
        "colab": {
          "base_uri": "https://localhost:8080/"
        },
        "id": "D-GS62X5Le1w",
        "outputId": "942c045c-63b8-4d1e-b78d-5f4a31109a1b"
      },
      "execution_count": 517,
      "outputs": [
        {
          "output_type": "execute_result",
          "data": {
            "text/plain": [
              "3.3119410844488186"
            ]
          },
          "metadata": {},
          "execution_count": 517
        }
      ]
    },
    {
      "cell_type": "markdown",
      "source": [
        "Train-Test Split in the ratio -> 80:20"
      ],
      "metadata": {
        "id": "bQ5mBlHGVI_7"
      }
    },
    {
      "cell_type": "code",
      "source": [
        "x_train,x_test,y_train,y_test=train_test_split(x,y,test_size=0.2,random_state=42)"
      ],
      "metadata": {
        "id": "8i0q3w9pHrkA"
      },
      "execution_count": 518,
      "outputs": []
    },
    {
      "cell_type": "markdown",
      "source": [
        "Polynomial function of degree is 6 implemented"
      ],
      "metadata": {
        "id": "q-iSVIuXVa-n"
      }
    },
    {
      "cell_type": "code",
      "source": [
        "p=PolynomialFeatures(degree=6,include_bias=True)\n",
        "x_train_p=p.fit_transform(x_train)\n",
        "x_test_p=p.transform(x_test)"
      ],
      "metadata": {
        "id": "NOnYaLtQH9FF"
      },
      "execution_count": 519,
      "outputs": []
    },
    {
      "cell_type": "code",
      "source": [
        "x_train_p"
      ],
      "metadata": {
        "colab": {
          "base_uri": "https://localhost:8080/"
        },
        "id": "EBuEnlt2IMg1",
        "outputId": "ab7b357d-e4c9-422c-a322-e05e4c633732"
      },
      "execution_count": 520,
      "outputs": [
        {
          "output_type": "execute_result",
          "data": {
            "text/plain": [
              "array([[1.00000000e+00, 1.53000000e+01, 2.34090000e+02, ...,\n",
              "        5.47981281e+04, 8.38411360e+05, 1.28276938e+07],\n",
              "       [1.00000000e+00, 2.66000000e+01, 7.07560000e+02, ...,\n",
              "        5.00641154e+05, 1.33170547e+07, 3.54233655e+08],\n",
              "       [1.00000000e+00, 1.92000000e+01, 3.68640000e+02, ...,\n",
              "        1.35895450e+05, 2.60919263e+06, 5.00964985e+07],\n",
              "       ...,\n",
              "       [1.00000000e+00, 2.38000000e+01, 5.66440000e+02, ...,\n",
              "        3.20854274e+05, 7.63633171e+06, 1.81744695e+08],\n",
              "       [1.00000000e+00, 2.11000000e+01, 4.45210000e+02, ...,\n",
              "        1.98211944e+05, 4.18227202e+06, 8.82459396e+07],\n",
              "       [1.00000000e+00, 2.45000000e+01, 6.00250000e+02, ...,\n",
              "        3.60300062e+05, 8.82735153e+06, 2.16270113e+08]])"
            ]
          },
          "metadata": {},
          "execution_count": 520
        }
      ]
    },
    {
      "cell_type": "code",
      "source": [
        "x_test_p"
      ],
      "metadata": {
        "colab": {
          "base_uri": "https://localhost:8080/"
        },
        "id": "kBPSMW1uIfMe",
        "outputId": "dd99715b-2469-46ee-8784-6b5dcf009183"
      },
      "execution_count": 521,
      "outputs": [
        {
          "output_type": "execute_result",
          "data": {
            "text/plain": [
              "array([[1.00000000e+00, 1.58000000e+01, 2.49640000e+02, ...,\n",
              "        6.23201296e+04, 9.84658048e+05, 1.55575972e+07],\n",
              "       [1.00000000e+00, 1.90000000e+01, 3.61000000e+02, ...,\n",
              "        1.30321000e+05, 2.47609900e+06, 4.70458810e+07],\n",
              "       [1.00000000e+00, 3.09000000e+01, 9.54810000e+02, ...,\n",
              "        9.11662136e+05, 2.81703600e+07, 8.70464124e+08],\n",
              "       ...,\n",
              "       [1.00000000e+00, 2.85000000e+01, 8.12250000e+02, ...,\n",
              "        6.59750062e+05, 1.88028768e+07, 5.35881988e+08],\n",
              "       [1.00000000e+00, 1.65000000e+01, 2.72250000e+02, ...,\n",
              "        7.41200625e+04, 1.22298103e+06, 2.01791870e+07],\n",
              "       [1.00000000e+00, 2.66000000e+01, 7.07560000e+02, ...,\n",
              "        5.00641154e+05, 1.33170547e+07, 3.54233655e+08]])"
            ]
          },
          "metadata": {},
          "execution_count": 521
        }
      ]
    },
    {
      "cell_type": "markdown",
      "source": [
        "Model with degree 6 fitted. Intercept and Coefficients are printed."
      ],
      "metadata": {
        "id": "WNZk6vwSVj-s"
      }
    },
    {
      "cell_type": "code",
      "source": [
        "reg_Model36=LinearRegression()\n",
        "reg_Model36.fit(x_train_p,y_train)\n",
        "print(reg_Model36.coef_)\n",
        "print(reg_Model36.intercept_)"
      ],
      "metadata": {
        "colab": {
          "base_uri": "https://localhost:8080/"
        },
        "id": "ol057ffKIhIs",
        "outputId": "4ba131ef-17c4-4c9e-c2bf-c80f28f326a4"
      },
      "execution_count": 522,
      "outputs": [
        {
          "output_type": "stream",
          "name": "stdout",
          "text": [
            "[ 0.00000000e+00  4.36688865e+03 -5.27776115e+02  3.33767858e+01\n",
            " -1.16495670e+00  2.12864950e-02 -1.59216206e-04]\n",
            "-13761.060845998289\n"
          ]
        }
      ]
    },
    {
      "cell_type": "markdown",
      "source": [
        "Visualization of the best fit Polynomial Curve (degree 6)"
      ],
      "metadata": {
        "id": "DOlrntZCVtmz"
      }
    },
    {
      "cell_type": "code",
      "source": [
        "plt.scatter(x_train,reg_Model36.predict(x_train_p))\n",
        "plt.scatter(x_train,y_train)\n",
        "plt.title(\"Visualization of the best fit Polynomial Curve (degree 6)\")\n",
        "plt.show()"
      ],
      "metadata": {
        "colab": {
          "base_uri": "https://localhost:8080/",
          "height": 452
        },
        "id": "pGgTy7g5IwFW",
        "outputId": "8eaee57f-7ea8-47b2-ed9a-0f151c3ed931"
      },
      "execution_count": 523,
      "outputs": [
        {
          "output_type": "display_data",
          "data": {
            "text/plain": [
              "<Figure size 640x480 with 1 Axes>"
            ],
            "image/png": "[encoded data removed]"
          },
          "metadata": {}
        }
      ]
    },
    {
      "cell_type": "markdown",
      "source": [
        "R2 Score of Model36"
      ],
      "metadata": {
        "id": "9JmcqwEzV6vN"
      }
    },
    {
      "cell_type": "code",
      "source": [
        "y_predict36=reg_Model36.predict(x_test_p)\n",
        "score36=r2_score(y_test,y_predict36)\n",
        "score36"
      ],
      "metadata": {
        "colab": {
          "base_uri": "https://localhost:8080/"
        },
        "id": "dYj7yrVEI08A",
        "outputId": "75803e8d-8e07-4611-9a54-c0cd20dcc8c1"
      },
      "execution_count": 524,
      "outputs": [
        {
          "output_type": "execute_result",
          "data": {
            "text/plain": [
              "0.6955199132228507"
            ]
          },
          "metadata": {},
          "execution_count": 524
        }
      ]
    },
    {
      "cell_type": "markdown",
      "source": [
        "MSE of Model36"
      ],
      "metadata": {
        "id": "29fs9451WDz7"
      }
    },
    {
      "cell_type": "code",
      "source": [
        "mse36 = np.mean(np.square(np.array(y_predict36) - np.array(y_test)))\n",
        "mse36"
      ],
      "metadata": {
        "colab": {
          "base_uri": "https://localhost:8080/"
        },
        "id": "4x_Isx-3I96Y",
        "outputId": "ea6428b0-81a6-4b24-9257-d17418f2ab77"
      },
      "execution_count": 525,
      "outputs": [
        {
          "output_type": "execute_result",
          "data": {
            "text/plain": [
              "21.615369062582992"
            ]
          },
          "metadata": {},
          "execution_count": 525
        }
      ]
    },
    {
      "cell_type": "markdown",
      "source": [
        "MAE of Model36"
      ],
      "metadata": {
        "id": "nJBK9bRZWGJQ"
      }
    },
    {
      "cell_type": "code",
      "source": [
        "mae36 = np.mean(np.abs(np.array(y_predict36) - np.array(y_test)))\n",
        "mae36"
      ],
      "metadata": {
        "colab": {
          "base_uri": "https://localhost:8080/"
        },
        "id": "K6Uz86zGLqBN",
        "outputId": "c25474b3-377f-4846-bd61-ce7aa19f08ce"
      },
      "execution_count": 526,
      "outputs": [
        {
          "output_type": "execute_result",
          "data": {
            "text/plain": [
              "3.2066844729492647"
            ]
          },
          "metadata": {},
          "execution_count": 526
        }
      ]
    },
    {
      "cell_type": "markdown",
      "source": [
        "Polynomial function of degree is 7 implemented"
      ],
      "metadata": {
        "id": "NmROu49mWTxr"
      }
    },
    {
      "cell_type": "code",
      "source": [
        "p=PolynomialFeatures(degree=7,include_bias=True)\n",
        "x_train_p=p.fit_transform(x_train)\n",
        "x_test_p=p.transform(x_test)"
      ],
      "metadata": {
        "id": "AKXLHGTTI-dW"
      },
      "execution_count": 527,
      "outputs": []
    },
    {
      "cell_type": "code",
      "source": [
        "x_train_p"
      ],
      "metadata": {
        "colab": {
          "base_uri": "https://localhost:8080/"
        },
        "id": "3BpitN8oJFXw",
        "outputId": "6417c544-bdd2-4533-92a2-96d973a0ebe6"
      },
      "execution_count": 528,
      "outputs": [
        {
          "output_type": "execute_result",
          "data": {
            "text/plain": [
              "array([[1.00000000e+00, 1.53000000e+01, 2.34090000e+02, ...,\n",
              "        8.38411360e+05, 1.28276938e+07, 1.96263715e+08],\n",
              "       [1.00000000e+00, 2.66000000e+01, 7.07560000e+02, ...,\n",
              "        1.33170547e+07, 3.54233655e+08, 9.42261521e+09],\n",
              "       [1.00000000e+00, 1.92000000e+01, 3.68640000e+02, ...,\n",
              "        2.60919263e+06, 5.00964985e+07, 9.61852772e+08],\n",
              "       ...,\n",
              "       [1.00000000e+00, 2.38000000e+01, 5.66440000e+02, ...,\n",
              "        7.63633171e+06, 1.81744695e+08, 4.32552373e+09],\n",
              "       [1.00000000e+00, 2.11000000e+01, 4.45210000e+02, ...,\n",
              "        4.18227202e+06, 8.82459396e+07, 1.86198933e+09],\n",
              "       [1.00000000e+00, 2.45000000e+01, 6.00250000e+02, ...,\n",
              "        8.82735153e+06, 2.16270113e+08, 5.29861776e+09]])"
            ]
          },
          "metadata": {},
          "execution_count": 528
        }
      ]
    },
    {
      "cell_type": "code",
      "source": [
        "x_test_p"
      ],
      "metadata": {
        "colab": {
          "base_uri": "https://localhost:8080/"
        },
        "id": "4_p4vIdjJF3G",
        "outputId": "64117a6f-03d2-4ecd-fcbd-7884468116dc"
      },
      "execution_count": 529,
      "outputs": [
        {
          "output_type": "execute_result",
          "data": {
            "text/plain": [
              "array([[1.00000000e+00, 1.58000000e+01, 2.49640000e+02, ...,\n",
              "        9.84658048e+05, 1.55575972e+07, 2.45810035e+08],\n",
              "       [1.00000000e+00, 1.90000000e+01, 3.61000000e+02, ...,\n",
              "        2.47609900e+06, 4.70458810e+07, 8.93871739e+08],\n",
              "       [1.00000000e+00, 3.09000000e+01, 9.54810000e+02, ...,\n",
              "        2.81703600e+07, 8.70464124e+08, 2.68973414e+10],\n",
              "       ...,\n",
              "       [1.00000000e+00, 2.85000000e+01, 8.12250000e+02, ...,\n",
              "        1.88028768e+07, 5.35881988e+08, 1.52726367e+10],\n",
              "       [1.00000000e+00, 1.65000000e+01, 2.72250000e+02, ...,\n",
              "        1.22298103e+06, 2.01791870e+07, 3.32956586e+08],\n",
              "       [1.00000000e+00, 2.66000000e+01, 7.07560000e+02, ...,\n",
              "        1.33170547e+07, 3.54233655e+08, 9.42261521e+09]])"
            ]
          },
          "metadata": {},
          "execution_count": 529
        }
      ]
    },
    {
      "cell_type": "markdown",
      "source": [
        "Model with degree 7 fitted. Intercept and Coefficients are printed."
      ],
      "metadata": {
        "id": "4T-YALwoWjbr"
      }
    },
    {
      "cell_type": "code",
      "source": [
        "reg_Model37=LinearRegression()\n",
        "reg_Model37.fit(x_train_p,y_train)\n",
        "print(reg_Model37.coef_)\n",
        "print(reg_Model37.intercept_)"
      ],
      "metadata": {
        "colab": {
          "base_uri": "https://localhost:8080/"
        },
        "id": "_zaCST9GJH1o",
        "outputId": "61ff991f-b427-4fd3-cef8-069707bdd472"
      },
      "execution_count": 530,
      "outputs": [
        {
          "output_type": "stream",
          "name": "stdout",
          "text": [
            "[ 0.00000000e+00 -2.53866488e+04  3.54692614e+03 -2.73178439e+02\n",
            "  1.25218589e+01 -3.41461270e-01  5.12693328e-03 -3.26861154e-05]\n",
            "78297.44269879082\n"
          ]
        }
      ]
    },
    {
      "cell_type": "markdown",
      "source": [
        "Visualization of the best fit Polynomial Curve (degree 7)"
      ],
      "metadata": {
        "id": "L0ppwhGeWmjL"
      }
    },
    {
      "cell_type": "code",
      "source": [
        "plt.scatter(x_train,reg_Model37.predict(x_train_p))\n",
        "plt.scatter(x_train,y_train)\n",
        "plt.title(\"Visualization of the best fit Polynomial Curve (degree 7)\")\n",
        "plt.show()"
      ],
      "metadata": {
        "colab": {
          "base_uri": "https://localhost:8080/",
          "height": 452
        },
        "id": "Km8EUjmwJNte",
        "outputId": "1486e20f-815b-43a4-c244-0a71b583b51d"
      },
      "execution_count": 531,
      "outputs": [
        {
          "output_type": "display_data",
          "data": {
            "text/plain": [
              "<Figure size 640x480 with 1 Axes>"
            ],
            "image/png": "[encoded data removed]"
          },
          "metadata": {}
        }
      ]
    },
    {
      "cell_type": "markdown",
      "source": [
        "R2 Score of Model37"
      ],
      "metadata": {
        "id": "0ogxSLmBW1jO"
      }
    },
    {
      "cell_type": "code",
      "source": [
        "y_predict37=reg_Model37.predict(x_test_p)\n",
        "score37=r2_score(y_test,y_predict37)\n",
        "score37"
      ],
      "metadata": {
        "colab": {
          "base_uri": "https://localhost:8080/"
        },
        "id": "S-D-7-FIJQMy",
        "outputId": "bbbb2d16-16c3-4a90-cb12-08a9e8714835"
      },
      "execution_count": 532,
      "outputs": [
        {
          "output_type": "execute_result",
          "data": {
            "text/plain": [
              "0.7041961435935306"
            ]
          },
          "metadata": {},
          "execution_count": 532
        }
      ]
    },
    {
      "cell_type": "markdown",
      "source": [
        "MSE of Model37"
      ],
      "metadata": {
        "id": "piernyo5W6JL"
      }
    },
    {
      "cell_type": "code",
      "source": [
        "mse37 = np.mean(np.square(np.array(y_predict37) - np.array(y_test)))\n",
        "mse37"
      ],
      "metadata": {
        "colab": {
          "base_uri": "https://localhost:8080/"
        },
        "id": "UAnDgfYXJUei",
        "outputId": "db221c22-73cf-49c6-b9fc-8cf3f6c85697"
      },
      "execution_count": 533,
      "outputs": [
        {
          "output_type": "execute_result",
          "data": {
            "text/plain": [
              "20.999434130616496"
            ]
          },
          "metadata": {},
          "execution_count": 533
        }
      ]
    },
    {
      "cell_type": "markdown",
      "source": [
        "MAE of Model37"
      ],
      "metadata": {
        "id": "CMvGIAi5W_5u"
      }
    },
    {
      "cell_type": "code",
      "source": [
        "mae37 = np.mean(np.abs(np.array(y_predict37) - np.array(y_test)))\n",
        "mae37"
      ],
      "metadata": {
        "colab": {
          "base_uri": "https://localhost:8080/"
        },
        "id": "LE5qSeKkL2s2",
        "outputId": "b5a93b42-9feb-42ca-ddaf-abe1b5d5230f"
      },
      "execution_count": 534,
      "outputs": [
        {
          "output_type": "execute_result",
          "data": {
            "text/plain": [
              "3.1524489677729215"
            ]
          },
          "metadata": {},
          "execution_count": 534
        }
      ]
    },
    {
      "cell_type": "markdown",
      "source": [
        "After experimenting with 3 different Train-Test Split ratio and 6 different degree for the polynomial curve, we can observe that with increase in the degree of the polynomial function, R2 score value increases and both MSE(Mean Squared Error) and MAE(Mean Absolute Error) term value decreases.\n",
        "\n",
        "This trend is evident from the visualised best fit Polynomial curve where we see the curve tends to deviate less from actual values resulting in better fit of the model of testing data.\n",
        "\n",
        "During the process, the highest R2 score that was achieved is 0.7042 (for 70:30 split and degree 5 case). Least MSE and MAE value being 20.99 and 3.15 respectively (both of them for 80:20 split and degree 7 case)"
      ],
      "metadata": {
        "id": "yKelqakaZQec"
      }
    }
  ]
}